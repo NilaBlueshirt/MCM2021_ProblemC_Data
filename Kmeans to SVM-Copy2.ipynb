{
 "cells": [
  {
   "cell_type": "code",
   "execution_count": 271,
   "metadata": {},
   "outputs": [],
   "source": [
    "# compatibility with Python 2\n",
    "from __future__ import print_function\n",
    "\n",
    "# preprocess\n",
    "from sklearn import preprocessing\n",
    "from sklearn.preprocessing import StandardScaler, normalize\n",
    "from sklearn.preprocessing import MinMaxScaler\n",
    "\n",
    "# To import the classifier (SVM classifier)\n",
    "from sklearn.svm import SVC\n",
    "\n",
    "# To measure accuracy\n",
    "from sklearn import metrics\n",
    "from sklearn.model_selection import train_test_split, RandomizedSearchCV, GridSearchCV\n",
    "\n",
    "# computes distance between each pair of two collections of inputs\n",
    "from scipy.spatial.distance import pdist\n",
    "\n",
    "# repaired matrix by averaging; probably the best can do without domain-specific information\n",
    "from sklearn.utils.validation import check_symmetric\n",
    "\n",
    "# clustering-related methods\n",
    "from sklearn.cluster import KMeans\n",
    "from sklearn.metrics import pairwise_distances\n",
    "from sklearn.metrics import silhouette_score \n",
    "\n",
    "# dimensionality reduction\n",
    "from sklearn.decomposition import PCA\n",
    "\n",
    "# support plots\n",
    "from ipywidgets import interact\n",
    "import ipywidgets as widgets\n",
    "import matplotlib as mpl\n",
    "import matplotlib.pyplot as plt\n",
    "from matplotlib import cm\n",
    "\n",
    "import seaborn as sns; sns.set()\n",
    "import networkx as nx\n",
    "\n",
    "import numpy as np\n",
    "import pandas as pd\n",
    "import math\n",
    "\n",
    "# To increase quality of figures\n",
    "plt.rcParams[\"figure.figsize\"] = (20, 7)\n",
    "\n",
    "# display all the plots inline\n",
    "%matplotlib inline\n",
    "\n",
    "# fs-related operations\n",
    "import os\n",
    "\n",
    "# download files\n",
    "import requests\n",
    "\n",
    "#float_formatter = lambda x: \"%.3f\" % x\n",
    "#np.set_printoptions(formatter={'float_kind':float_formatter})"
   ]
  },
  {
   "cell_type": "code",
   "execution_count": 272,
   "metadata": {},
   "outputs": [],
   "source": [
    "# To import the scalers\n",
    "from sklearn.preprocessing import StandardScaler\n",
    "from sklearn.preprocessing import MinMaxScaler\n",
    "from sklearn.preprocessing import Binarizer\n",
    "\n",
    "\n",
    "class DummyScaler:\n",
    "    \n",
    "    def fit(self, data):\n",
    "        pass\n",
    "    \n",
    "    def transform(self, data):\n",
    "        return data\n",
    "\n",
    "def create_scaler_dummy():\n",
    "    return DummyScaler()\n",
    "    \n",
    "def create_scaler_standard():\n",
    "    return StandardScaler()\n",
    "\n",
    "def create_scaler_minmax():\n",
    "    return MinMaxScaler()\n",
    "\n",
    "def crete_scaler_binarizer():\n",
    "    return Binarizer()"
   ]
  },
  {
   "cell_type": "code",
   "execution_count": 379,
   "metadata": {},
   "outputs": [],
   "source": [
    "data = pd.read_excel('../c/data.xlsx') "
   ]
  },
  {
   "cell_type": "code",
   "execution_count": 380,
   "metadata": {},
   "outputs": [
    {
     "name": "stdout",
     "output_type": "stream",
     "text": [
      "(4426, 8)\n"
     ]
    },
    {
     "data": {
      "text/html": [
       "<div>\n",
       "<style scoped>\n",
       "    .dataframe tbody tr th:only-of-type {\n",
       "        vertical-align: middle;\n",
       "    }\n",
       "\n",
       "    .dataframe tbody tr th {\n",
       "        vertical-align: top;\n",
       "    }\n",
       "\n",
       "    .dataframe thead th {\n",
       "        text-align: right;\n",
       "    }\n",
       "</style>\n",
       "<table border=\"1\" class=\"dataframe\">\n",
       "  <thead>\n",
       "    <tr style=\"text-align: right;\">\n",
       "      <th></th>\n",
       "      <th>GlobalID</th>\n",
       "      <th>Detection Date</th>\n",
       "      <th>Notes</th>\n",
       "      <th>Lab Status</th>\n",
       "      <th>Lab Comments</th>\n",
       "      <th>Submission Date</th>\n",
       "      <th>Latitude</th>\n",
       "      <th>Longitude</th>\n",
       "    </tr>\n",
       "  </thead>\n",
       "  <tbody>\n",
       "    <tr>\n",
       "      <th>0</th>\n",
       "      <td>{5AC8034E-5B46-4294-85F0-5B13117EBEFE}</td>\n",
       "      <td>2019-12-08</td>\n",
       "      <td>One dead wasp seen in Blaine, and suspect flyi...</td>\n",
       "      <td>Positive ID</td>\n",
       "      <td></td>\n",
       "      <td>2020-01-15</td>\n",
       "      <td>48.980994</td>\n",
       "      <td>-122.688503</td>\n",
       "    </tr>\n",
       "    <tr>\n",
       "      <th>1</th>\n",
       "      <td>{5EAD3364-2CA7-4A39-9A53-7F9DCF5D2041}</td>\n",
       "      <td>2019-10-30</td>\n",
       "      <td>Hornet specimen sent to WSU</td>\n",
       "      <td>Positive ID</td>\n",
       "      <td></td>\n",
       "      <td>2020-01-15</td>\n",
       "      <td>48.971949</td>\n",
       "      <td>-122.700941</td>\n",
       "    </tr>\n",
       "    <tr>\n",
       "      <th>2</th>\n",
       "      <td>{13B67BCB-AFCE-4100-AD2B-76EF178BA228}</td>\n",
       "      <td>2020-01-15</td>\n",
       "      <td>Massive loss of bees, decapitated. No hornet s...</td>\n",
       "      <td>Unverified</td>\n",
       "      <td></td>\n",
       "      <td>2020-01-15</td>\n",
       "      <td>48.939200</td>\n",
       "      <td>-122.661300</td>\n",
       "    </tr>\n",
       "    <tr>\n",
       "      <th>3</th>\n",
       "      <td>{124B9BFA-7F7B-4B8E-8A56-42E067F0F72E}</td>\n",
       "      <td>2019-09-19</td>\n",
       "      <td>This was the colony that was found and destroy...</td>\n",
       "      <td>Positive ID</td>\n",
       "      <td>Thanks for adding this, and the great pictures!</td>\n",
       "      <td>2020-02-04</td>\n",
       "      <td>49.149394</td>\n",
       "      <td>-123.943134</td>\n",
       "    </tr>\n",
       "    <tr>\n",
       "      <th>4</th>\n",
       "      <td>{BBBA5BA0-CAFB-43D3-8F1D-FB2D9CF777E0}</td>\n",
       "      <td>2019-08-31</td>\n",
       "      <td>I was cleaning my gutters when I heard a snapp...</td>\n",
       "      <td>Unverified</td>\n",
       "      <td>Thanks for this report. I can't verify it from...</td>\n",
       "      <td>2020-02-14</td>\n",
       "      <td>48.723779</td>\n",
       "      <td>-122.354431</td>\n",
       "    </tr>\n",
       "  </tbody>\n",
       "</table>\n",
       "</div>"
      ],
      "text/plain": [
       "                                 GlobalID Detection Date  \\\n",
       "0  {5AC8034E-5B46-4294-85F0-5B13117EBEFE}     2019-12-08   \n",
       "1  {5EAD3364-2CA7-4A39-9A53-7F9DCF5D2041}     2019-10-30   \n",
       "2  {13B67BCB-AFCE-4100-AD2B-76EF178BA228}     2020-01-15   \n",
       "3  {124B9BFA-7F7B-4B8E-8A56-42E067F0F72E}     2019-09-19   \n",
       "4  {BBBA5BA0-CAFB-43D3-8F1D-FB2D9CF777E0}     2019-08-31   \n",
       "\n",
       "                                               Notes   Lab Status  \\\n",
       "0  One dead wasp seen in Blaine, and suspect flyi...  Positive ID   \n",
       "1                        Hornet specimen sent to WSU  Positive ID   \n",
       "2  Massive loss of bees, decapitated. No hornet s...   Unverified   \n",
       "3  This was the colony that was found and destroy...  Positive ID   \n",
       "4  I was cleaning my gutters when I heard a snapp...   Unverified   \n",
       "\n",
       "                                        Lab Comments Submission Date  \\\n",
       "0                                                         2020-01-15   \n",
       "1                                                         2020-01-15   \n",
       "2                                                         2020-01-15   \n",
       "3    Thanks for adding this, and the great pictures!      2020-02-04   \n",
       "4  Thanks for this report. I can't verify it from...      2020-02-14   \n",
       "\n",
       "    Latitude   Longitude  \n",
       "0  48.980994 -122.688503  \n",
       "1  48.971949 -122.700941  \n",
       "2  48.939200 -122.661300  \n",
       "3  49.149394 -123.943134  \n",
       "4  48.723779 -122.354431  "
      ]
     },
     "execution_count": 380,
     "metadata": {},
     "output_type": "execute_result"
    }
   ],
   "source": [
    "print(data.shape)\n",
    "data.head(5)"
   ]
  },
  {
   "cell_type": "markdown",
   "metadata": {},
   "source": [
    "# Q1 + Q3\n",
    "\n",
    "Address and discuss whether or not the spread of this pest over time can be predicted, and with what level of precision.\n",
    "\n",
    "Use your model to discuss how your classification analyses leads to prioritizing investigation of the reports most likely to be positive sightings."
   ]
  },
  {
   "cell_type": "markdown",
   "metadata": {},
   "source": [
    "# Step 0: Preprocess"
   ]
  },
  {
   "cell_type": "code",
   "execution_count": 381,
   "metadata": {},
   "outputs": [
    {
     "data": {
      "text/plain": [
       "Unverified     2329\n",
       "Negative ID    2068\n",
       "Unprocessed      15\n",
       "Positive ID      14\n",
       "Name: Lab Status, dtype: int64"
      ]
     },
     "execution_count": 381,
     "metadata": {},
     "output_type": "execute_result"
    }
   ],
   "source": [
    "# significant imbalanced sample\n",
    "data['Lab Status'].value_counts()"
   ]
  },
  {
   "cell_type": "code",
   "execution_count": 382,
   "metadata": {
    "scrolled": true
   },
   "outputs": [
    {
     "data": {
      "text/html": [
       "<div>\n",
       "<style scoped>\n",
       "    .dataframe tbody tr th:only-of-type {\n",
       "        vertical-align: middle;\n",
       "    }\n",
       "\n",
       "    .dataframe tbody tr th {\n",
       "        vertical-align: top;\n",
       "    }\n",
       "\n",
       "    .dataframe thead th {\n",
       "        text-align: right;\n",
       "    }\n",
       "</style>\n",
       "<table border=\"1\" class=\"dataframe\">\n",
       "  <thead>\n",
       "    <tr style=\"text-align: right;\">\n",
       "      <th></th>\n",
       "      <th>GlobalID</th>\n",
       "      <th>Detection Date</th>\n",
       "      <th>Notes</th>\n",
       "      <th>Lab Status</th>\n",
       "      <th>Lab Comments</th>\n",
       "      <th>Submission Date</th>\n",
       "      <th>Latitude</th>\n",
       "      <th>Longitude</th>\n",
       "      <th>label</th>\n",
       "    </tr>\n",
       "  </thead>\n",
       "  <tbody>\n",
       "    <tr>\n",
       "      <th>0</th>\n",
       "      <td>{5AC8034E-5B46-4294-85F0-5B13117EBEFE}</td>\n",
       "      <td>2019-12-08</td>\n",
       "      <td>One dead wasp seen in Blaine, and suspect flyi...</td>\n",
       "      <td>Positive ID</td>\n",
       "      <td></td>\n",
       "      <td>2020-01-15</td>\n",
       "      <td>48.980994</td>\n",
       "      <td>-122.688503</td>\n",
       "      <td>1</td>\n",
       "    </tr>\n",
       "    <tr>\n",
       "      <th>1</th>\n",
       "      <td>{5EAD3364-2CA7-4A39-9A53-7F9DCF5D2041}</td>\n",
       "      <td>2019-10-30</td>\n",
       "      <td>Hornet specimen sent to WSU</td>\n",
       "      <td>Positive ID</td>\n",
       "      <td></td>\n",
       "      <td>2020-01-15</td>\n",
       "      <td>48.971949</td>\n",
       "      <td>-122.700941</td>\n",
       "      <td>1</td>\n",
       "    </tr>\n",
       "    <tr>\n",
       "      <th>2</th>\n",
       "      <td>{13B67BCB-AFCE-4100-AD2B-76EF178BA228}</td>\n",
       "      <td>2020-01-15</td>\n",
       "      <td>Massive loss of bees, decapitated. No hornet s...</td>\n",
       "      <td>Unverified</td>\n",
       "      <td></td>\n",
       "      <td>2020-01-15</td>\n",
       "      <td>48.939200</td>\n",
       "      <td>-122.661300</td>\n",
       "      <td>-1</td>\n",
       "    </tr>\n",
       "    <tr>\n",
       "      <th>3</th>\n",
       "      <td>{124B9BFA-7F7B-4B8E-8A56-42E067F0F72E}</td>\n",
       "      <td>2019-09-19</td>\n",
       "      <td>This was the colony that was found and destroy...</td>\n",
       "      <td>Positive ID</td>\n",
       "      <td>Thanks for adding this, and the great pictures!</td>\n",
       "      <td>2020-02-04</td>\n",
       "      <td>49.149394</td>\n",
       "      <td>-123.943134</td>\n",
       "      <td>1</td>\n",
       "    </tr>\n",
       "    <tr>\n",
       "      <th>4</th>\n",
       "      <td>{BBBA5BA0-CAFB-43D3-8F1D-FB2D9CF777E0}</td>\n",
       "      <td>2019-08-31</td>\n",
       "      <td>I was cleaning my gutters when I heard a snapp...</td>\n",
       "      <td>Unverified</td>\n",
       "      <td>Thanks for this report. I can't verify it from...</td>\n",
       "      <td>2020-02-14</td>\n",
       "      <td>48.723779</td>\n",
       "      <td>-122.354431</td>\n",
       "      <td>-1</td>\n",
       "    </tr>\n",
       "    <tr>\n",
       "      <th>...</th>\n",
       "      <td>...</td>\n",
       "      <td>...</td>\n",
       "      <td>...</td>\n",
       "      <td>...</td>\n",
       "      <td>...</td>\n",
       "      <td>...</td>\n",
       "      <td>...</td>\n",
       "      <td>...</td>\n",
       "      <td>...</td>\n",
       "    </tr>\n",
       "    <tr>\n",
       "      <th>4421</th>\n",
       "      <td>{153C4ACC-72AE-4D87-AA80-4C714417F8C6}</td>\n",
       "      <td>2020-10-02</td>\n",
       "      <td>It was about an inch and a quarter in length. ...</td>\n",
       "      <td>Unprocessed</td>\n",
       "      <td></td>\n",
       "      <td>2020-10-23</td>\n",
       "      <td>47.145673</td>\n",
       "      <td>-122.566734</td>\n",
       "      <td>-1</td>\n",
       "    </tr>\n",
       "    <tr>\n",
       "      <th>4422</th>\n",
       "      <td>{26DDF8E2-DA0C-4F87-A65A-233115BAFCCD}</td>\n",
       "      <td>2020-08-29</td>\n",
       "      <td>I was stung several times on the 7th hole ov t...</td>\n",
       "      <td>Unprocessed</td>\n",
       "      <td></td>\n",
       "      <td>2020-10-23</td>\n",
       "      <td>48.997938</td>\n",
       "      <td>-122.729890</td>\n",
       "      <td>-1</td>\n",
       "    </tr>\n",
       "    <tr>\n",
       "      <th>4423</th>\n",
       "      <td>{3E50801D-9DBB-43DE-8D32-31CFA88C74D9}</td>\n",
       "      <td>2020-10-23</td>\n",
       "      <td>Found dead in humming bird feeder. Silverdale WA</td>\n",
       "      <td>Unprocessed</td>\n",
       "      <td></td>\n",
       "      <td>2020-10-23</td>\n",
       "      <td>47.651710</td>\n",
       "      <td>-122.692750</td>\n",
       "      <td>-1</td>\n",
       "    </tr>\n",
       "    <tr>\n",
       "      <th>4424</th>\n",
       "      <td>{9BA7BDD9-01A5-4776-99B0-89FCE08CA53B}</td>\n",
       "      <td>2020-10-19</td>\n",
       "      <td>I live on Bainbridge Island on a heavily woode...</td>\n",
       "      <td>Unprocessed</td>\n",
       "      <td></td>\n",
       "      <td>2020-10-23</td>\n",
       "      <td>47.690120</td>\n",
       "      <td>-122.509780</td>\n",
       "      <td>-1</td>\n",
       "    </tr>\n",
       "    <tr>\n",
       "      <th>4425</th>\n",
       "      <td>{7BD09981-CC6F-4FF8-8395-DABFF0D07A96}</td>\n",
       "      <td>2020-08-04</td>\n",
       "      <td>At Cresap bay campground in Washington, my fam...</td>\n",
       "      <td>Unprocessed</td>\n",
       "      <td></td>\n",
       "      <td>2020-10-23</td>\n",
       "      <td>45.968985</td>\n",
       "      <td>-122.386562</td>\n",
       "      <td>-1</td>\n",
       "    </tr>\n",
       "  </tbody>\n",
       "</table>\n",
       "<p>4426 rows × 9 columns</p>\n",
       "</div>"
      ],
      "text/plain": [
       "                                    GlobalID Detection Date  \\\n",
       "0     {5AC8034E-5B46-4294-85F0-5B13117EBEFE}     2019-12-08   \n",
       "1     {5EAD3364-2CA7-4A39-9A53-7F9DCF5D2041}     2019-10-30   \n",
       "2     {13B67BCB-AFCE-4100-AD2B-76EF178BA228}     2020-01-15   \n",
       "3     {124B9BFA-7F7B-4B8E-8A56-42E067F0F72E}     2019-09-19   \n",
       "4     {BBBA5BA0-CAFB-43D3-8F1D-FB2D9CF777E0}     2019-08-31   \n",
       "...                                      ...            ...   \n",
       "4421  {153C4ACC-72AE-4D87-AA80-4C714417F8C6}     2020-10-02   \n",
       "4422  {26DDF8E2-DA0C-4F87-A65A-233115BAFCCD}     2020-08-29   \n",
       "4423  {3E50801D-9DBB-43DE-8D32-31CFA88C74D9}     2020-10-23   \n",
       "4424  {9BA7BDD9-01A5-4776-99B0-89FCE08CA53B}     2020-10-19   \n",
       "4425  {7BD09981-CC6F-4FF8-8395-DABFF0D07A96}     2020-08-04   \n",
       "\n",
       "                                                  Notes   Lab Status  \\\n",
       "0     One dead wasp seen in Blaine, and suspect flyi...  Positive ID   \n",
       "1                           Hornet specimen sent to WSU  Positive ID   \n",
       "2     Massive loss of bees, decapitated. No hornet s...   Unverified   \n",
       "3     This was the colony that was found and destroy...  Positive ID   \n",
       "4     I was cleaning my gutters when I heard a snapp...   Unverified   \n",
       "...                                                 ...          ...   \n",
       "4421  It was about an inch and a quarter in length. ...  Unprocessed   \n",
       "4422  I was stung several times on the 7th hole ov t...  Unprocessed   \n",
       "4423   Found dead in humming bird feeder. Silverdale WA  Unprocessed   \n",
       "4424  I live on Bainbridge Island on a heavily woode...  Unprocessed   \n",
       "4425  At Cresap bay campground in Washington, my fam...  Unprocessed   \n",
       "\n",
       "                                           Lab Comments Submission Date  \\\n",
       "0                                                            2020-01-15   \n",
       "1                                                            2020-01-15   \n",
       "2                                                            2020-01-15   \n",
       "3       Thanks for adding this, and the great pictures!      2020-02-04   \n",
       "4     Thanks for this report. I can't verify it from...      2020-02-14   \n",
       "...                                                 ...             ...   \n",
       "4421                                                         2020-10-23   \n",
       "4422                                                         2020-10-23   \n",
       "4423                                                         2020-10-23   \n",
       "4424                                                         2020-10-23   \n",
       "4425                                                         2020-10-23   \n",
       "\n",
       "       Latitude   Longitude  label  \n",
       "0     48.980994 -122.688503      1  \n",
       "1     48.971949 -122.700941      1  \n",
       "2     48.939200 -122.661300     -1  \n",
       "3     49.149394 -123.943134      1  \n",
       "4     48.723779 -122.354431     -1  \n",
       "...         ...         ...    ...  \n",
       "4421  47.145673 -122.566734     -1  \n",
       "4422  48.997938 -122.729890     -1  \n",
       "4423  47.651710 -122.692750     -1  \n",
       "4424  47.690120 -122.509780     -1  \n",
       "4425  45.968985 -122.386562     -1  \n",
       "\n",
       "[4426 rows x 9 columns]"
      ]
     },
     "execution_count": 382,
     "metadata": {},
     "output_type": "execute_result"
    }
   ],
   "source": [
    "# adding label as a new column to data\n",
    "# assign class 0 to the negative id in [lab status], class 1 to positive\n",
    "# class 0 and 1 are training set, the rest is test set\n",
    "\n",
    "data['label']= -1\n",
    "data.loc[data['Lab Status'] == 'Positive ID', 'label'] = 1\n",
    "data.loc[data['Lab Status'] == 'Negative ID', 'label'] = 0\n",
    "data"
   ]
  },
  {
   "cell_type": "code",
   "execution_count": 383,
   "metadata": {},
   "outputs": [],
   "source": [
    "# seperate unknown data for later\n",
    "unknown_pic = data.loc[data['label']== -1]\n",
    "\n",
    "# remove all the missing / irrelevent values\n",
    "# data = data[data.label != -1]\n",
    "data = data.drop('GlobalID', axis = 1)\n",
    "data = data.drop('Notes', axis = 1)\n",
    "data = data.drop('Lab Status', axis = 1)\n",
    "data = data.drop('Submission Date', axis = 1)\n",
    "data = data.drop('Lab Comments', axis = 1)"
   ]
  },
  {
   "cell_type": "code",
   "execution_count": 384,
   "metadata": {},
   "outputs": [
    {
     "data": {
      "text/plain": [
       "pandas._libs.tslibs.timestamps.Timestamp"
      ]
     },
     "execution_count": 384,
     "metadata": {},
     "output_type": "execute_result"
    }
   ],
   "source": [
    "data.columns = ['date','lat', 'lon', 'class']\n",
    "type(data.date[1])"
   ]
  },
  {
   "cell_type": "code",
   "execution_count": 385,
   "metadata": {},
   "outputs": [
    {
     "data": {
      "text/html": [
       "<div>\n",
       "<style scoped>\n",
       "    .dataframe tbody tr th:only-of-type {\n",
       "        vertical-align: middle;\n",
       "    }\n",
       "\n",
       "    .dataframe tbody tr th {\n",
       "        vertical-align: top;\n",
       "    }\n",
       "\n",
       "    .dataframe thead th {\n",
       "        text-align: right;\n",
       "    }\n",
       "</style>\n",
       "<table border=\"1\" class=\"dataframe\">\n",
       "  <thead>\n",
       "    <tr style=\"text-align: right;\">\n",
       "      <th></th>\n",
       "      <th>date</th>\n",
       "      <th>lat</th>\n",
       "      <th>lon</th>\n",
       "      <th>class</th>\n",
       "    </tr>\n",
       "  </thead>\n",
       "  <tbody>\n",
       "    <tr>\n",
       "      <th>0</th>\n",
       "      <td>2019-12-08</td>\n",
       "      <td>48.980994</td>\n",
       "      <td>-122.688503</td>\n",
       "      <td>1</td>\n",
       "    </tr>\n",
       "    <tr>\n",
       "      <th>1</th>\n",
       "      <td>2019-10-30</td>\n",
       "      <td>48.971949</td>\n",
       "      <td>-122.700941</td>\n",
       "      <td>1</td>\n",
       "    </tr>\n",
       "    <tr>\n",
       "      <th>2</th>\n",
       "      <td>2020-01-15</td>\n",
       "      <td>48.939200</td>\n",
       "      <td>-122.661300</td>\n",
       "      <td>-1</td>\n",
       "    </tr>\n",
       "    <tr>\n",
       "      <th>3</th>\n",
       "      <td>2019-09-19</td>\n",
       "      <td>49.149394</td>\n",
       "      <td>-123.943134</td>\n",
       "      <td>1</td>\n",
       "    </tr>\n",
       "    <tr>\n",
       "      <th>4</th>\n",
       "      <td>2019-08-31</td>\n",
       "      <td>48.723779</td>\n",
       "      <td>-122.354431</td>\n",
       "      <td>-1</td>\n",
       "    </tr>\n",
       "    <tr>\n",
       "      <th>...</th>\n",
       "      <td>...</td>\n",
       "      <td>...</td>\n",
       "      <td>...</td>\n",
       "      <td>...</td>\n",
       "    </tr>\n",
       "    <tr>\n",
       "      <th>4421</th>\n",
       "      <td>2020-10-02</td>\n",
       "      <td>47.145673</td>\n",
       "      <td>-122.566734</td>\n",
       "      <td>-1</td>\n",
       "    </tr>\n",
       "    <tr>\n",
       "      <th>4422</th>\n",
       "      <td>2020-08-29</td>\n",
       "      <td>48.997938</td>\n",
       "      <td>-122.729890</td>\n",
       "      <td>-1</td>\n",
       "    </tr>\n",
       "    <tr>\n",
       "      <th>4423</th>\n",
       "      <td>2020-10-23</td>\n",
       "      <td>47.651710</td>\n",
       "      <td>-122.692750</td>\n",
       "      <td>-1</td>\n",
       "    </tr>\n",
       "    <tr>\n",
       "      <th>4424</th>\n",
       "      <td>2020-10-19</td>\n",
       "      <td>47.690120</td>\n",
       "      <td>-122.509780</td>\n",
       "      <td>-1</td>\n",
       "    </tr>\n",
       "    <tr>\n",
       "      <th>4425</th>\n",
       "      <td>2020-08-04</td>\n",
       "      <td>45.968985</td>\n",
       "      <td>-122.386562</td>\n",
       "      <td>-1</td>\n",
       "    </tr>\n",
       "  </tbody>\n",
       "</table>\n",
       "<p>4426 rows × 4 columns</p>\n",
       "</div>"
      ],
      "text/plain": [
       "           date        lat         lon  class\n",
       "0    2019-12-08  48.980994 -122.688503      1\n",
       "1    2019-10-30  48.971949 -122.700941      1\n",
       "2    2020-01-15  48.939200 -122.661300     -1\n",
       "3    2019-09-19  49.149394 -123.943134      1\n",
       "4    2019-08-31  48.723779 -122.354431     -1\n",
       "...         ...        ...         ...    ...\n",
       "4421 2020-10-02  47.145673 -122.566734     -1\n",
       "4422 2020-08-29  48.997938 -122.729890     -1\n",
       "4423 2020-10-23  47.651710 -122.692750     -1\n",
       "4424 2020-10-19  47.690120 -122.509780     -1\n",
       "4425 2020-08-04  45.968985 -122.386562     -1\n",
       "\n",
       "[4426 rows x 4 columns]"
      ]
     },
     "execution_count": 385,
     "metadata": {},
     "output_type": "execute_result"
    }
   ],
   "source": [
    "data = data[data.date != 0]\n",
    "data = data[data.lat != 0]\n",
    "data = data[data.lon != 0]\n",
    "data"
   ]
  },
  {
   "cell_type": "code",
   "execution_count": 386,
   "metadata": {},
   "outputs": [],
   "source": [
    "# change datetime type into integers\n",
    "from datetime import datetime\n",
    "data['date'] = data['date'].astype(str)"
   ]
  },
  {
   "cell_type": "code",
   "execution_count": 387,
   "metadata": {},
   "outputs": [
    {
     "data": {
      "text/plain": [
       "str"
      ]
     },
     "execution_count": 387,
     "metadata": {},
     "output_type": "execute_result"
    }
   ],
   "source": [
    "type(data.date[3])"
   ]
  },
  {
   "cell_type": "code",
   "execution_count": 388,
   "metadata": {},
   "outputs": [],
   "source": [
    "data['date'] = pd.to_datetime(data['date'], format='%Y-%m-%d')"
   ]
  },
  {
   "cell_type": "code",
   "execution_count": 389,
   "metadata": {},
   "outputs": [
    {
     "data": {
      "text/html": [
       "<div>\n",
       "<style scoped>\n",
       "    .dataframe tbody tr th:only-of-type {\n",
       "        vertical-align: middle;\n",
       "    }\n",
       "\n",
       "    .dataframe tbody tr th {\n",
       "        vertical-align: top;\n",
       "    }\n",
       "\n",
       "    .dataframe thead th {\n",
       "        text-align: right;\n",
       "    }\n",
       "</style>\n",
       "<table border=\"1\" class=\"dataframe\">\n",
       "  <thead>\n",
       "    <tr style=\"text-align: right;\">\n",
       "      <th></th>\n",
       "      <th>date</th>\n",
       "      <th>lat</th>\n",
       "      <th>lon</th>\n",
       "      <th>class</th>\n",
       "    </tr>\n",
       "  </thead>\n",
       "  <tbody>\n",
       "    <tr>\n",
       "      <th>0</th>\n",
       "      <td>2019-12-08</td>\n",
       "      <td>48.980994</td>\n",
       "      <td>-122.688503</td>\n",
       "      <td>1</td>\n",
       "    </tr>\n",
       "    <tr>\n",
       "      <th>1</th>\n",
       "      <td>2019-10-30</td>\n",
       "      <td>48.971949</td>\n",
       "      <td>-122.700941</td>\n",
       "      <td>1</td>\n",
       "    </tr>\n",
       "    <tr>\n",
       "      <th>2</th>\n",
       "      <td>2020-01-15</td>\n",
       "      <td>48.939200</td>\n",
       "      <td>-122.661300</td>\n",
       "      <td>-1</td>\n",
       "    </tr>\n",
       "    <tr>\n",
       "      <th>3</th>\n",
       "      <td>2019-09-19</td>\n",
       "      <td>49.149394</td>\n",
       "      <td>-123.943134</td>\n",
       "      <td>1</td>\n",
       "    </tr>\n",
       "    <tr>\n",
       "      <th>4</th>\n",
       "      <td>2019-08-31</td>\n",
       "      <td>48.723779</td>\n",
       "      <td>-122.354431</td>\n",
       "      <td>-1</td>\n",
       "    </tr>\n",
       "  </tbody>\n",
       "</table>\n",
       "</div>"
      ],
      "text/plain": [
       "        date        lat         lon  class\n",
       "0 2019-12-08  48.980994 -122.688503      1\n",
       "1 2019-10-30  48.971949 -122.700941      1\n",
       "2 2020-01-15  48.939200 -122.661300     -1\n",
       "3 2019-09-19  49.149394 -123.943134      1\n",
       "4 2019-08-31  48.723779 -122.354431     -1"
      ]
     },
     "execution_count": 389,
     "metadata": {},
     "output_type": "execute_result"
    }
   ],
   "source": [
    "# Manually delete case with the abnormal date causing error, already done\n",
    "data['date'] = pd.to_datetime(data['date'], format='%Y-%m-%d')\n",
    "data.head()"
   ]
  },
  {
   "cell_type": "code",
   "execution_count": 390,
   "metadata": {},
   "outputs": [
    {
     "data": {
      "text/plain": [
       "pandas._libs.tslibs.timestamps.Timestamp"
      ]
     },
     "execution_count": 390,
     "metadata": {},
     "output_type": "execute_result"
    }
   ],
   "source": [
    "type(data.date[3])"
   ]
  },
  {
   "cell_type": "code",
   "execution_count": 391,
   "metadata": {},
   "outputs": [],
   "source": [
    "data['date'] = data['date'].apply(datetime.toordinal)"
   ]
  },
  {
   "cell_type": "code",
   "execution_count": 392,
   "metadata": {
    "scrolled": true
   },
   "outputs": [
    {
     "data": {
      "text/html": [
       "<div>\n",
       "<style scoped>\n",
       "    .dataframe tbody tr th:only-of-type {\n",
       "        vertical-align: middle;\n",
       "    }\n",
       "\n",
       "    .dataframe tbody tr th {\n",
       "        vertical-align: top;\n",
       "    }\n",
       "\n",
       "    .dataframe thead th {\n",
       "        text-align: right;\n",
       "    }\n",
       "</style>\n",
       "<table border=\"1\" class=\"dataframe\">\n",
       "  <thead>\n",
       "    <tr style=\"text-align: right;\">\n",
       "      <th></th>\n",
       "      <th>date</th>\n",
       "      <th>lat</th>\n",
       "      <th>lon</th>\n",
       "      <th>class</th>\n",
       "    </tr>\n",
       "  </thead>\n",
       "  <tbody>\n",
       "    <tr>\n",
       "      <th>0</th>\n",
       "      <td>737401</td>\n",
       "      <td>48.980994</td>\n",
       "      <td>-122.688503</td>\n",
       "      <td>1</td>\n",
       "    </tr>\n",
       "    <tr>\n",
       "      <th>1</th>\n",
       "      <td>737362</td>\n",
       "      <td>48.971949</td>\n",
       "      <td>-122.700941</td>\n",
       "      <td>1</td>\n",
       "    </tr>\n",
       "    <tr>\n",
       "      <th>2</th>\n",
       "      <td>737439</td>\n",
       "      <td>48.939200</td>\n",
       "      <td>-122.661300</td>\n",
       "      <td>-1</td>\n",
       "    </tr>\n",
       "    <tr>\n",
       "      <th>3</th>\n",
       "      <td>737321</td>\n",
       "      <td>49.149394</td>\n",
       "      <td>-123.943134</td>\n",
       "      <td>1</td>\n",
       "    </tr>\n",
       "    <tr>\n",
       "      <th>4</th>\n",
       "      <td>737302</td>\n",
       "      <td>48.723779</td>\n",
       "      <td>-122.354431</td>\n",
       "      <td>-1</td>\n",
       "    </tr>\n",
       "    <tr>\n",
       "      <th>...</th>\n",
       "      <td>...</td>\n",
       "      <td>...</td>\n",
       "      <td>...</td>\n",
       "      <td>...</td>\n",
       "    </tr>\n",
       "    <tr>\n",
       "      <th>4421</th>\n",
       "      <td>737700</td>\n",
       "      <td>47.145673</td>\n",
       "      <td>-122.566734</td>\n",
       "      <td>-1</td>\n",
       "    </tr>\n",
       "    <tr>\n",
       "      <th>4422</th>\n",
       "      <td>737666</td>\n",
       "      <td>48.997938</td>\n",
       "      <td>-122.729890</td>\n",
       "      <td>-1</td>\n",
       "    </tr>\n",
       "    <tr>\n",
       "      <th>4423</th>\n",
       "      <td>737721</td>\n",
       "      <td>47.651710</td>\n",
       "      <td>-122.692750</td>\n",
       "      <td>-1</td>\n",
       "    </tr>\n",
       "    <tr>\n",
       "      <th>4424</th>\n",
       "      <td>737717</td>\n",
       "      <td>47.690120</td>\n",
       "      <td>-122.509780</td>\n",
       "      <td>-1</td>\n",
       "    </tr>\n",
       "    <tr>\n",
       "      <th>4425</th>\n",
       "      <td>737641</td>\n",
       "      <td>45.968985</td>\n",
       "      <td>-122.386562</td>\n",
       "      <td>-1</td>\n",
       "    </tr>\n",
       "  </tbody>\n",
       "</table>\n",
       "<p>4426 rows × 4 columns</p>\n",
       "</div>"
      ],
      "text/plain": [
       "        date        lat         lon  class\n",
       "0     737401  48.980994 -122.688503      1\n",
       "1     737362  48.971949 -122.700941      1\n",
       "2     737439  48.939200 -122.661300     -1\n",
       "3     737321  49.149394 -123.943134      1\n",
       "4     737302  48.723779 -122.354431     -1\n",
       "...      ...        ...         ...    ...\n",
       "4421  737700  47.145673 -122.566734     -1\n",
       "4422  737666  48.997938 -122.729890     -1\n",
       "4423  737721  47.651710 -122.692750     -1\n",
       "4424  737717  47.690120 -122.509780     -1\n",
       "4425  737641  45.968985 -122.386562     -1\n",
       "\n",
       "[4426 rows x 4 columns]"
      ]
     },
     "execution_count": 392,
     "metadata": {},
     "output_type": "execute_result"
    }
   ],
   "source": [
    "data"
   ]
  },
  {
   "cell_type": "code",
   "execution_count": 393,
   "metadata": {},
   "outputs": [
    {
     "data": {
      "text/plain": [
       "numpy.int64"
      ]
     },
     "execution_count": 393,
     "metadata": {},
     "output_type": "execute_result"
    }
   ],
   "source": [
    "type(data.date[3])"
   ]
  },
  {
   "cell_type": "code",
   "execution_count": 394,
   "metadata": {},
   "outputs": [],
   "source": [
    "df = data"
   ]
  },
  {
   "cell_type": "markdown",
   "metadata": {},
   "source": [
    "# Step 1: K-Means clustering"
   ]
  },
  {
   "cell_type": "code",
   "execution_count": 395,
   "metadata": {},
   "outputs": [
    {
     "data": {
      "text/plain": [
       "array([[-0.56829414,  1.88587175, -0.61612345,  3.01907901],\n",
       "       [-0.68455867,  1.87331023, -0.6246394 ,  3.01907901],\n",
       "       [-0.45501075,  1.82782908, -0.59749833, -0.93664737],\n",
       "       ...,\n",
       "       [ 0.38567125,  0.03978892, -0.61903125, -0.93664737],\n",
       "       [ 0.37374668,  0.09313195, -0.4937569 , -0.93664737],\n",
       "       [ 0.1471799 , -2.29714565, -0.40939304, -0.93664737]])"
      ]
     },
     "execution_count": 395,
     "metadata": {},
     "output_type": "execute_result"
    }
   ],
   "source": [
    "# preprocess data for clustering\n",
    "\n",
    "X = df.drop(['class'], axis = 1)\n",
    "X = StandardScaler().fit_transform(df)\n",
    "X"
   ]
  },
  {
   "cell_type": "code",
   "execution_count": 396,
   "metadata": {},
   "outputs": [],
   "source": [
    "# use PCA (principal component analysis) to reduce dimension to 2 to simply visualize the data\n",
    "\n",
    "pca_model = PCA(n_components=2)\n",
    "X_reduced = pca_model.fit_transform(X)"
   ]
  },
  {
   "cell_type": "code",
   "execution_count": 397,
   "metadata": {},
   "outputs": [],
   "source": [
    "# Here we use closure to store the related variables\n",
    "\n",
    "def create_plot_kmeans_digits(_X, _y, _n_classes):\n",
    "    X, y = _X, _y\n",
    "    n_classes = _n_classes\n",
    "    colors = np.array([cm.tab20(i) for i in range(100)])\n",
    "\n",
    "# set K randomly for initialisation\n",
    "\n",
    "    def plot_kmeans_digits(n_clusters=10):\n",
    "        expand=1\n",
    "        kmeans = KMeans(init='k-means++', n_clusters=n_clusters, n_init=10, random_state=520, max_iter=1000, n_jobs=-1)\n",
    "        kmeans.fit(X)\n",
    "        y_predicted = kmeans.predict(X)\n",
    "        fig, (ax1, ax2) = plt.subplots(1, 2)\n",
    "        ax1.plot((np.min(X_reduced[:, 0])-expand, np.max(X_reduced[:, 0])+expand), \n",
    "                 (np.min(X_reduced[:, 1])-expand, np.max(X_reduced[:, 1])+expand),\n",
    "                 alpha=0.0)\n",
    "        xlim = ax1.get_xlim()\n",
    "        ylim = ax1.get_ylim()\n",
    "        ax1.scatter(X_reduced[:, 0], X_reduced[:, 1], c=colors[y_predicted])\n",
    "        ax1.set_xlabel('pca #1')\n",
    "        ax1.set_ylabel('pca #2') \n",
    "        centers = np.array(kmeans.cluster_centers_)\n",
    "        ax1.scatter(centers[:, 0], centers[:, 1], marker=\"x\", color='k', s=64)\n",
    "        matrix = np.zeros((n_clusters, n_classes))\n",
    "        for cluster in range(n_clusters):\n",
    "            for cl in range(n_classes):\n",
    "                matrix[cluster, cl] = np.sum(y[y_predicted == cluster]==cl)\n",
    "        sns.heatmap(matrix, annot=True, fmt='g', ax=ax2)\n",
    "        ax2.set_xlabel('Class')\n",
    "        ax2.set_ylabel('Cluster')\n",
    "        print('Inertia:', kmeans.inertia_)\n",
    "        plt.savefig('../c/KmeansFindK.png')\n",
    "        plt.show()\n",
    "    return plot_kmeans_digits"
   ]
  },
  {
   "cell_type": "code",
   "execution_count": 398,
   "metadata": {},
   "outputs": [],
   "source": [
    "# To increase quality of figures\n",
    "plt.rcParams[\"figure.figsize\"] = (30, 15)"
   ]
  },
  {
   "cell_type": "code",
   "execution_count": 399,
   "metadata": {},
   "outputs": [
    {
     "data": {
      "application/vnd.jupyter.widget-view+json": {
       "model_id": "588bd7259b2d418bac1179e11170323c",
       "version_major": 2,
       "version_minor": 0
      },
      "text/plain": [
       "interactive(children=(IntSlider(value=1, continuous_update=False, description='N clusters:', max=20, min=1), O…"
      ]
     },
     "metadata": {},
     "output_type": "display_data"
    },
    {
     "data": {
      "text/plain": [
       "<function __main__.create_plot_kmeans_digits.<locals>.plot_kmeans_digits(n_clusters=10)>"
      ]
     },
     "execution_count": 399,
     "metadata": {},
     "output_type": "execute_result"
    }
   ],
   "source": [
    "n_clusters_widget = widgets.IntSlider(\n",
    "    value=1,\n",
    "    min=1,\n",
    "    max=20,\n",
    "    step=1,\n",
    "    continuous_update=False,\n",
    "    description='N clusters:')\n",
    "interact(create_plot_kmeans_digits(X_reduced, y_predicted, 10),\n",
    "         n_clusters=n_clusters_widget)"
   ]
  },
  {
   "cell_type": "code",
   "execution_count": 400,
   "metadata": {},
   "outputs": [],
   "source": [
    "# If class labels are not available, within-cluster sum of squares (inertia) can be used\n",
    "# inertia: how far away the points within a cluster are，the smaller the better\n",
    "\n",
    "n_clusters = range(1, 30)\n",
    "inertia = np.zeros(len(n_clusters))\n",
    "for i, clusters in enumerate(n_clusters):\n",
    "    kmeans = KMeans(init='k-means++', n_clusters=clusters, n_init=10, random_state=520, max_iter=1000, n_jobs=-1)\n",
    "    kmeans.fit(X)\n",
    "    inertia[i] = kmeans.inertia_\n",
    "    y_predicted = kmeans.predict(X)"
   ]
  },
  {
   "cell_type": "code",
   "execution_count": 401,
   "metadata": {},
   "outputs": [
    {
     "data": {
      "image/png": "[encoded data removed]",
      "text/plain": [
       "<Figure size 2160x1080 with 1 Axes>"
      ]
     },
     "metadata": {
      "needs_background": "light"
     },
     "output_type": "display_data"
    }
   ],
   "source": [
    "plt.plot(n_clusters, inertia)\n",
    "plt.title('Kmeans: inertia')\n",
    "plt.xlabel('# of clusters')\n",
    "plt.ylabel('Inertia')\n",
    "plt.savefig('../c/KmeansInertia.png')\n",
    "plt.show()"
   ]
  },
  {
   "cell_type": "code",
   "execution_count": 402,
   "metadata": {},
   "outputs": [
    {
     "name": "stdout",
     "output_type": "stream",
     "text": [
      "0.4914620769975957\n",
      "2701.4299475453613\n"
     ]
    }
   ],
   "source": [
    "# try for 10\n",
    "\n",
    "k_means = KMeans(n_clusters=10)\n",
    "\n",
    "#Run the clustering algorithm\n",
    "model = k_means.fit(X)\n",
    "model\n",
    "\n",
    "#Generate cluster predictions and store in y_hat\n",
    "y_hat = k_means.predict(X)\n",
    "\n",
    "labels = k_means.labels_\n",
    "\n",
    "# Calculating the silhouette coefficient, A high value is desirable\n",
    "print(metrics.silhouette_score(X, labels, metric = 'euclidean'))\n",
    "\n",
    "# CH score, A high value is desirable\n",
    "print(metrics.calinski_harabasz_score(X, labels))"
   ]
  },
  {
   "cell_type": "code",
   "execution_count": 403,
   "metadata": {},
   "outputs": [
    {
     "name": "stdout",
     "output_type": "stream",
     "text": [
      "0.44298133172637016\n",
      "1658.4427932271055\n"
     ]
    }
   ],
   "source": [
    "# try for other number of clusters (= 4)\n",
    "k_means_4 = KMeans(n_clusters=4)\n",
    "model = k_means_4.fit(X)\n",
    "y_hat_4 = k_means_4.predict(X)\n",
    "labels_4 = k_means_4.labels_\n",
    "print(metrics.silhouette_score(X, labels_4, metric = 'euclidean'))\n",
    "print(metrics.calinski_harabasz_score(X, labels_4))"
   ]
  },
  {
   "cell_type": "code",
   "execution_count": 404,
   "metadata": {},
   "outputs": [
    {
     "name": "stdout",
     "output_type": "stream",
     "text": [
      "0.4408457620147509\n",
      "1616.0288563480335\n"
     ]
    }
   ],
   "source": [
    "# try for other number of clusters (= 3)\n",
    "k_means_3 = KMeans(n_clusters=3)\n",
    "model = k_means_3.fit(X)\n",
    "y_hat_3 = k_means_3.predict(X)\n",
    "labels_3 = k_means_3.labels_\n",
    "print(metrics.silhouette_score(X, labels_3, metric = 'euclidean'))\n",
    "print(metrics.calinski_harabasz_score(X, labels_3))"
   ]
  },
  {
   "cell_type": "code",
   "execution_count": 405,
   "metadata": {},
   "outputs": [
    {
     "name": "stdout",
     "output_type": "stream",
     "text": [
      "0.485036620383454\n",
      "2721.8480060948086\n"
     ]
    }
   ],
   "source": [
    "# try for other number of clusters (= 9)\n",
    "k_means_9 = KMeans(n_clusters=9)\n",
    "model = k_means_9.fit(X)\n",
    "y_hat_9 = k_means_9.predict(X)\n",
    "labels_9 = k_means_9.labels_\n",
    "print(metrics.silhouette_score(X, labels_9, metric = 'euclidean'))\n",
    "print(metrics.calinski_harabasz_score(X, labels_9))"
   ]
  },
  {
   "cell_type": "code",
   "execution_count": 406,
   "metadata": {},
   "outputs": [
    {
     "name": "stdout",
     "output_type": "stream",
     "text": [
      "0.4796933072500037\n",
      "1947.322993527219\n"
     ]
    }
   ],
   "source": [
    "# try for other number of clusters (=5)\n",
    "k_means_5 = KMeans(n_clusters=5)\n",
    "model = k_means_5.fit(X)\n",
    "y_hat_5 = k_means_5.predict(X)\n",
    "labels_5 = k_means_5.labels_\n",
    "print(metrics.silhouette_score(X, labels_5, metric = 'euclidean'))\n",
    "print(metrics.calinski_harabasz_score(X, labels_5))"
   ]
  },
  {
   "cell_type": "code",
   "execution_count": 407,
   "metadata": {},
   "outputs": [
    {
     "name": "stdout",
     "output_type": "stream",
     "text": [
      "0.4886172873333632\n",
      "2923.2718431877965\n"
     ]
    }
   ],
   "source": [
    "# try for other number of clusters (=15)\n",
    "k_means_15 = KMeans(n_clusters=15)\n",
    "model = k_means_15.fit(X)\n",
    "y_hat_15 = k_means_15.predict(X)\n",
    "labels_15 = k_means_15.labels_\n",
    "print(metrics.silhouette_score(X, labels_15, metric = 'euclidean'))\n",
    "print(metrics.calinski_harabasz_score(X, labels_15))"
   ]
  },
  {
   "cell_type": "code",
   "execution_count": 408,
   "metadata": {},
   "outputs": [
    {
     "data": {
      "text/html": [
       "<div>\n",
       "<style scoped>\n",
       "    .dataframe tbody tr th:only-of-type {\n",
       "        vertical-align: middle;\n",
       "    }\n",
       "\n",
       "    .dataframe tbody tr th {\n",
       "        vertical-align: top;\n",
       "    }\n",
       "\n",
       "    .dataframe thead th {\n",
       "        text-align: right;\n",
       "    }\n",
       "</style>\n",
       "<table border=\"1\" class=\"dataframe\">\n",
       "  <thead>\n",
       "    <tr style=\"text-align: right;\">\n",
       "      <th></th>\n",
       "      <th>date</th>\n",
       "      <th>lat</th>\n",
       "      <th>lon</th>\n",
       "      <th>class</th>\n",
       "      <th>KmeansCluster</th>\n",
       "    </tr>\n",
       "  </thead>\n",
       "  <tbody>\n",
       "    <tr>\n",
       "      <th>0</th>\n",
       "      <td>737401</td>\n",
       "      <td>48.980994</td>\n",
       "      <td>-122.688503</td>\n",
       "      <td>1</td>\n",
       "      <td>8</td>\n",
       "    </tr>\n",
       "    <tr>\n",
       "      <th>1</th>\n",
       "      <td>737362</td>\n",
       "      <td>48.971949</td>\n",
       "      <td>-122.700941</td>\n",
       "      <td>1</td>\n",
       "      <td>8</td>\n",
       "    </tr>\n",
       "    <tr>\n",
       "      <th>2</th>\n",
       "      <td>737439</td>\n",
       "      <td>48.939200</td>\n",
       "      <td>-122.661300</td>\n",
       "      <td>-1</td>\n",
       "      <td>5</td>\n",
       "    </tr>\n",
       "    <tr>\n",
       "      <th>3</th>\n",
       "      <td>737321</td>\n",
       "      <td>49.149394</td>\n",
       "      <td>-123.943134</td>\n",
       "      <td>1</td>\n",
       "      <td>8</td>\n",
       "    </tr>\n",
       "    <tr>\n",
       "      <th>4</th>\n",
       "      <td>737302</td>\n",
       "      <td>48.723779</td>\n",
       "      <td>-122.354431</td>\n",
       "      <td>-1</td>\n",
       "      <td>5</td>\n",
       "    </tr>\n",
       "    <tr>\n",
       "      <th>...</th>\n",
       "      <td>...</td>\n",
       "      <td>...</td>\n",
       "      <td>...</td>\n",
       "      <td>...</td>\n",
       "      <td>...</td>\n",
       "    </tr>\n",
       "    <tr>\n",
       "      <th>4421</th>\n",
       "      <td>737700</td>\n",
       "      <td>47.145673</td>\n",
       "      <td>-122.566734</td>\n",
       "      <td>-1</td>\n",
       "      <td>3</td>\n",
       "    </tr>\n",
       "    <tr>\n",
       "      <th>4422</th>\n",
       "      <td>737666</td>\n",
       "      <td>48.997938</td>\n",
       "      <td>-122.729890</td>\n",
       "      <td>-1</td>\n",
       "      <td>5</td>\n",
       "    </tr>\n",
       "    <tr>\n",
       "      <th>4423</th>\n",
       "      <td>737721</td>\n",
       "      <td>47.651710</td>\n",
       "      <td>-122.692750</td>\n",
       "      <td>-1</td>\n",
       "      <td>3</td>\n",
       "    </tr>\n",
       "    <tr>\n",
       "      <th>4424</th>\n",
       "      <td>737717</td>\n",
       "      <td>47.690120</td>\n",
       "      <td>-122.509780</td>\n",
       "      <td>-1</td>\n",
       "      <td>3</td>\n",
       "    </tr>\n",
       "    <tr>\n",
       "      <th>4425</th>\n",
       "      <td>737641</td>\n",
       "      <td>45.968985</td>\n",
       "      <td>-122.386562</td>\n",
       "      <td>-1</td>\n",
       "      <td>7</td>\n",
       "    </tr>\n",
       "  </tbody>\n",
       "</table>\n",
       "<p>4426 rows × 5 columns</p>\n",
       "</div>"
      ],
      "text/plain": [
       "        date        lat         lon  class  KmeansCluster\n",
       "0     737401  48.980994 -122.688503      1              8\n",
       "1     737362  48.971949 -122.700941      1              8\n",
       "2     737439  48.939200 -122.661300     -1              5\n",
       "3     737321  49.149394 -123.943134      1              8\n",
       "4     737302  48.723779 -122.354431     -1              5\n",
       "...      ...        ...         ...    ...            ...\n",
       "4421  737700  47.145673 -122.566734     -1              3\n",
       "4422  737666  48.997938 -122.729890     -1              5\n",
       "4423  737721  47.651710 -122.692750     -1              3\n",
       "4424  737717  47.690120 -122.509780     -1              3\n",
       "4425  737641  45.968985 -122.386562     -1              7\n",
       "\n",
       "[4426 rows x 5 columns]"
      ]
     },
     "execution_count": 408,
     "metadata": {},
     "output_type": "execute_result"
    }
   ],
   "source": [
    "# if choose n_clusters = 10, the clusters will be two small for svm\n",
    "# but can use clusters as one more features for svm\n",
    "#add label to the original dataframe\n",
    "\n",
    "df['KmeansCluster'] = labels\n",
    "df"
   ]
  },
  {
   "cell_type": "code",
   "execution_count": 409,
   "metadata": {},
   "outputs": [
    {
     "data": {
      "text/plain": [
       "Index(['date', 'lat', 'lon', 'class', 'KmeansCluster'], dtype='object')"
      ]
     },
     "execution_count": 409,
     "metadata": {},
     "output_type": "execute_result"
    }
   ],
   "source": [
    "df.columns"
   ]
  },
  {
   "cell_type": "code",
   "execution_count": 410,
   "metadata": {},
   "outputs": [],
   "source": [
    "new_columns = ['date', 'lat', 'lon', 'KmeansCluster', 'class']"
   ]
  },
  {
   "cell_type": "code",
   "execution_count": 411,
   "metadata": {},
   "outputs": [],
   "source": [
    "df = df.reindex(columns = new_columns)"
   ]
  },
  {
   "cell_type": "code",
   "execution_count": 412,
   "metadata": {},
   "outputs": [],
   "source": [
    "df.to_csv('../clusteredDF.csv')"
   ]
  },
  {
   "cell_type": "code",
   "execution_count": 413,
   "metadata": {},
   "outputs": [
    {
     "data": {
      "text/html": [
       "<div>\n",
       "<style scoped>\n",
       "    .dataframe tbody tr th:only-of-type {\n",
       "        vertical-align: middle;\n",
       "    }\n",
       "\n",
       "    .dataframe tbody tr th {\n",
       "        vertical-align: top;\n",
       "    }\n",
       "\n",
       "    .dataframe thead th {\n",
       "        text-align: right;\n",
       "    }\n",
       "</style>\n",
       "<table border=\"1\" class=\"dataframe\">\n",
       "  <thead>\n",
       "    <tr style=\"text-align: right;\">\n",
       "      <th></th>\n",
       "      <th>date</th>\n",
       "      <th>lat</th>\n",
       "      <th>lon</th>\n",
       "      <th>KmeansCluster</th>\n",
       "      <th>class</th>\n",
       "    </tr>\n",
       "  </thead>\n",
       "  <tbody>\n",
       "    <tr>\n",
       "      <th>0</th>\n",
       "      <td>737401</td>\n",
       "      <td>48.980994</td>\n",
       "      <td>-122.688503</td>\n",
       "      <td>8</td>\n",
       "      <td>1</td>\n",
       "    </tr>\n",
       "    <tr>\n",
       "      <th>1</th>\n",
       "      <td>737362</td>\n",
       "      <td>48.971949</td>\n",
       "      <td>-122.700941</td>\n",
       "      <td>8</td>\n",
       "      <td>1</td>\n",
       "    </tr>\n",
       "    <tr>\n",
       "      <th>2</th>\n",
       "      <td>737439</td>\n",
       "      <td>48.939200</td>\n",
       "      <td>-122.661300</td>\n",
       "      <td>5</td>\n",
       "      <td>-1</td>\n",
       "    </tr>\n",
       "    <tr>\n",
       "      <th>3</th>\n",
       "      <td>737321</td>\n",
       "      <td>49.149394</td>\n",
       "      <td>-123.943134</td>\n",
       "      <td>8</td>\n",
       "      <td>1</td>\n",
       "    </tr>\n",
       "    <tr>\n",
       "      <th>4</th>\n",
       "      <td>737302</td>\n",
       "      <td>48.723779</td>\n",
       "      <td>-122.354431</td>\n",
       "      <td>5</td>\n",
       "      <td>-1</td>\n",
       "    </tr>\n",
       "    <tr>\n",
       "      <th>...</th>\n",
       "      <td>...</td>\n",
       "      <td>...</td>\n",
       "      <td>...</td>\n",
       "      <td>...</td>\n",
       "      <td>...</td>\n",
       "    </tr>\n",
       "    <tr>\n",
       "      <th>4421</th>\n",
       "      <td>737700</td>\n",
       "      <td>47.145673</td>\n",
       "      <td>-122.566734</td>\n",
       "      <td>3</td>\n",
       "      <td>-1</td>\n",
       "    </tr>\n",
       "    <tr>\n",
       "      <th>4422</th>\n",
       "      <td>737666</td>\n",
       "      <td>48.997938</td>\n",
       "      <td>-122.729890</td>\n",
       "      <td>5</td>\n",
       "      <td>-1</td>\n",
       "    </tr>\n",
       "    <tr>\n",
       "      <th>4423</th>\n",
       "      <td>737721</td>\n",
       "      <td>47.651710</td>\n",
       "      <td>-122.692750</td>\n",
       "      <td>3</td>\n",
       "      <td>-1</td>\n",
       "    </tr>\n",
       "    <tr>\n",
       "      <th>4424</th>\n",
       "      <td>737717</td>\n",
       "      <td>47.690120</td>\n",
       "      <td>-122.509780</td>\n",
       "      <td>3</td>\n",
       "      <td>-1</td>\n",
       "    </tr>\n",
       "    <tr>\n",
       "      <th>4425</th>\n",
       "      <td>737641</td>\n",
       "      <td>45.968985</td>\n",
       "      <td>-122.386562</td>\n",
       "      <td>7</td>\n",
       "      <td>-1</td>\n",
       "    </tr>\n",
       "  </tbody>\n",
       "</table>\n",
       "<p>4426 rows × 5 columns</p>\n",
       "</div>"
      ],
      "text/plain": [
       "        date        lat         lon  KmeansCluster  class\n",
       "0     737401  48.980994 -122.688503              8      1\n",
       "1     737362  48.971949 -122.700941              8      1\n",
       "2     737439  48.939200 -122.661300              5     -1\n",
       "3     737321  49.149394 -123.943134              8      1\n",
       "4     737302  48.723779 -122.354431              5     -1\n",
       "...      ...        ...         ...            ...    ...\n",
       "4421  737700  47.145673 -122.566734              3     -1\n",
       "4422  737666  48.997938 -122.729890              5     -1\n",
       "4423  737721  47.651710 -122.692750              3     -1\n",
       "4424  737717  47.690120 -122.509780              3     -1\n",
       "4425  737641  45.968985 -122.386562              7     -1\n",
       "\n",
       "[4426 rows x 5 columns]"
      ]
     },
     "execution_count": 413,
     "metadata": {},
     "output_type": "execute_result"
    }
   ],
   "source": [
    "df"
   ]
  },
  {
   "cell_type": "markdown",
   "metadata": {},
   "source": [
    "# Step 2 : Class_Weighted SVM - RBF"
   ]
  },
  {
   "cell_type": "code",
   "execution_count": 306,
   "metadata": {},
   "outputs": [],
   "source": [
    "# find classifer for each cluster\n",
    "# store each cluster into sub dataset (dataframe)\n",
    "sub0 = data.loc[data['KmeansCluster'] == 0]\n",
    "sub1 = data.loc[data['KmeansCluster'] == 1]\n",
    "sub2 = data.loc[data['KmeansCluster'] == 2]"
   ]
  },
  {
   "cell_type": "code",
   "execution_count": 307,
   "metadata": {},
   "outputs": [],
   "source": [
    "# divide each sub dataset into known and unverified/unprocessed group for later\n",
    "sub0 = sub0.drop('KmeansCluster', 1)\n",
    "sub0_k = sub0.loc[sub0['class'] != -1]\n",
    "sub0_un = sub0.loc[sub0['class'] == -1]\n",
    "sub0_un = sub0_un.drop('class', 1)\n",
    "\n",
    "\n",
    "sub1 = sub1.drop('KmeansCluster', 1)\n",
    "sub1_k = sub1.loc[sub1['class'] != -1]\n",
    "sub1_un = sub1.loc[sub1['class'] == -1]\n",
    "sub1_un = sub1_un.drop('class', 1)\n",
    "\n",
    "\n",
    "sub2 = sub2.drop('KmeansCluster', 1)\n",
    "sub2_k = sub2.loc[sub2['class'] != -1]\n",
    "sub2_un = sub2.loc[sub2['class'] == -1]\n",
    "sub2_un = sub2_un.drop('class', 1)"
   ]
  },
  {
   "cell_type": "code",
   "execution_count": 318,
   "metadata": {},
   "outputs": [
    {
     "data": {
      "text/html": [
       "<div>\n",
       "<style scoped>\n",
       "    .dataframe tbody tr th:only-of-type {\n",
       "        vertical-align: middle;\n",
       "    }\n",
       "\n",
       "    .dataframe tbody tr th {\n",
       "        vertical-align: top;\n",
       "    }\n",
       "\n",
       "    .dataframe thead th {\n",
       "        text-align: right;\n",
       "    }\n",
       "</style>\n",
       "<table border=\"1\" class=\"dataframe\">\n",
       "  <thead>\n",
       "    <tr style=\"text-align: right;\">\n",
       "      <th></th>\n",
       "      <th>date</th>\n",
       "      <th>lat</th>\n",
       "      <th>lon</th>\n",
       "    </tr>\n",
       "  </thead>\n",
       "  <tbody>\n",
       "  </tbody>\n",
       "</table>\n",
       "</div>"
      ],
      "text/plain": [
       "Empty DataFrame\n",
       "Columns: [date, lat, lon]\n",
       "Index: []"
      ]
     },
     "execution_count": 318,
     "metadata": {},
     "output_type": "execute_result"
    }
   ],
   "source": [
    "sub2_un"
   ]
  },
  {
   "cell_type": "code",
   "execution_count": 316,
   "metadata": {},
   "outputs": [
    {
     "data": {
      "text/html": [
       "<div>\n",
       "<style scoped>\n",
       "    .dataframe tbody tr th:only-of-type {\n",
       "        vertical-align: middle;\n",
       "    }\n",
       "\n",
       "    .dataframe tbody tr th {\n",
       "        vertical-align: top;\n",
       "    }\n",
       "\n",
       "    .dataframe thead th {\n",
       "        text-align: right;\n",
       "    }\n",
       "</style>\n",
       "<table border=\"1\" class=\"dataframe\">\n",
       "  <thead>\n",
       "    <tr style=\"text-align: right;\">\n",
       "      <th></th>\n",
       "      <th>date</th>\n",
       "      <th>lat</th>\n",
       "      <th>lon</th>\n",
       "      <th>class</th>\n",
       "    </tr>\n",
       "  </thead>\n",
       "  <tbody>\n",
       "    <tr>\n",
       "      <th>0</th>\n",
       "      <td>737401</td>\n",
       "      <td>48.980994</td>\n",
       "      <td>-122.688503</td>\n",
       "      <td>1</td>\n",
       "    </tr>\n",
       "    <tr>\n",
       "      <th>1</th>\n",
       "      <td>737362</td>\n",
       "      <td>48.971949</td>\n",
       "      <td>-122.700941</td>\n",
       "      <td>1</td>\n",
       "    </tr>\n",
       "    <tr>\n",
       "      <th>3</th>\n",
       "      <td>737321</td>\n",
       "      <td>49.149394</td>\n",
       "      <td>-123.943134</td>\n",
       "      <td>1</td>\n",
       "    </tr>\n",
       "    <tr>\n",
       "      <th>824</th>\n",
       "      <td>737572</td>\n",
       "      <td>48.955587</td>\n",
       "      <td>-122.661037</td>\n",
       "      <td>1</td>\n",
       "    </tr>\n",
       "    <tr>\n",
       "      <th>914</th>\n",
       "      <td>737376</td>\n",
       "      <td>49.025831</td>\n",
       "      <td>-122.810653</td>\n",
       "      <td>1</td>\n",
       "    </tr>\n",
       "    <tr>\n",
       "      <th>946</th>\n",
       "      <td>737560</td>\n",
       "      <td>49.060215</td>\n",
       "      <td>-122.641648</td>\n",
       "      <td>1</td>\n",
       "    </tr>\n",
       "    <tr>\n",
       "      <th>1001</th>\n",
       "      <td>737583</td>\n",
       "      <td>48.777534</td>\n",
       "      <td>-122.418612</td>\n",
       "      <td>1</td>\n",
       "    </tr>\n",
       "    <tr>\n",
       "      <th>1059</th>\n",
       "      <td>737332</td>\n",
       "      <td>48.993892</td>\n",
       "      <td>-122.702242</td>\n",
       "      <td>1</td>\n",
       "    </tr>\n",
       "    <tr>\n",
       "      <th>3266</th>\n",
       "      <td>737654</td>\n",
       "      <td>48.927519</td>\n",
       "      <td>-122.745016</td>\n",
       "      <td>1</td>\n",
       "    </tr>\n",
       "    <tr>\n",
       "      <th>4114</th>\n",
       "      <td>737689</td>\n",
       "      <td>48.984269</td>\n",
       "      <td>-122.574809</td>\n",
       "      <td>1</td>\n",
       "    </tr>\n",
       "    <tr>\n",
       "      <th>4193</th>\n",
       "      <td>737698</td>\n",
       "      <td>48.979497</td>\n",
       "      <td>-122.581335</td>\n",
       "      <td>1</td>\n",
       "    </tr>\n",
       "    <tr>\n",
       "      <th>4194</th>\n",
       "      <td>737699</td>\n",
       "      <td>48.983375</td>\n",
       "      <td>-122.582465</td>\n",
       "      <td>1</td>\n",
       "    </tr>\n",
       "    <tr>\n",
       "      <th>4195</th>\n",
       "      <td>737697</td>\n",
       "      <td>48.984172</td>\n",
       "      <td>-122.574720</td>\n",
       "      <td>1</td>\n",
       "    </tr>\n",
       "    <tr>\n",
       "      <th>4325</th>\n",
       "      <td>737696</td>\n",
       "      <td>48.984220</td>\n",
       "      <td>-122.574726</td>\n",
       "      <td>1</td>\n",
       "    </tr>\n",
       "  </tbody>\n",
       "</table>\n",
       "</div>"
      ],
      "text/plain": [
       "        date        lat         lon  class\n",
       "0     737401  48.980994 -122.688503      1\n",
       "1     737362  48.971949 -122.700941      1\n",
       "3     737321  49.149394 -123.943134      1\n",
       "824   737572  48.955587 -122.661037      1\n",
       "914   737376  49.025831 -122.810653      1\n",
       "946   737560  49.060215 -122.641648      1\n",
       "1001  737583  48.777534 -122.418612      1\n",
       "1059  737332  48.993892 -122.702242      1\n",
       "3266  737654  48.927519 -122.745016      1\n",
       "4114  737689  48.984269 -122.574809      1\n",
       "4193  737698  48.979497 -122.581335      1\n",
       "4194  737699  48.983375 -122.582465      1\n",
       "4195  737697  48.984172 -122.574720      1\n",
       "4325  737696  48.984220 -122.574726      1"
      ]
     },
     "execution_count": 316,
     "metadata": {},
     "output_type": "execute_result"
    }
   ],
   "source": [
    "sub2_k.loc[sub2_k['class'] == 1]"
   ]
  },
  {
   "cell_type": "code",
   "execution_count": 242,
   "metadata": {},
   "outputs": [
    {
     "ename": "ValueError",
     "evalue": "The number of classes has to be greater than one; got 1 class",
     "output_type": "error",
     "traceback": [
      "\u001b[0;31m---------------------------------------------------------------------------\u001b[0m",
      "\u001b[0;31mValueError\u001b[0m                                Traceback (most recent call last)",
      "\u001b[0;32m<ipython-input-242-2089fb93a9b2>\u001b[0m in \u001b[0;36m<module>\u001b[0;34m\u001b[0m\n\u001b[1;32m     13\u001b[0m \u001b[0;34m\u001b[0m\u001b[0m\n\u001b[1;32m     14\u001b[0m \u001b[0msvm_clf0\u001b[0m \u001b[0;34m=\u001b[0m \u001b[0mSVC\u001b[0m\u001b[0;34m(\u001b[0m\u001b[0mkernel\u001b[0m\u001b[0;34m=\u001b[0m\u001b[0;34m'rbf'\u001b[0m\u001b[0;34m,\u001b[0m \u001b[0mgamma\u001b[0m\u001b[0;34m=\u001b[0m\u001b[0;34m'auto'\u001b[0m\u001b[0;34m)\u001b[0m\u001b[0;34m\u001b[0m\u001b[0;34m\u001b[0m\u001b[0m\n\u001b[0;32m---> 15\u001b[0;31m \u001b[0msvm_clf0\u001b[0m\u001b[0;34m.\u001b[0m\u001b[0mfit\u001b[0m\u001b[0;34m(\u001b[0m\u001b[0mX0_train\u001b[0m\u001b[0;34m,\u001b[0m \u001b[0my0_train\u001b[0m\u001b[0;34m)\u001b[0m\u001b[0;34m\u001b[0m\u001b[0;34m\u001b[0m\u001b[0m\n\u001b[0m\u001b[1;32m     16\u001b[0m \u001b[0my0_pred\u001b[0m \u001b[0;34m=\u001b[0m \u001b[0msvm_clf0\u001b[0m\u001b[0;34m.\u001b[0m\u001b[0mpredict\u001b[0m\u001b[0;34m(\u001b[0m\u001b[0mX0_test\u001b[0m\u001b[0;34m)\u001b[0m\u001b[0;34m\u001b[0m\u001b[0;34m\u001b[0m\u001b[0m\n\u001b[1;32m     17\u001b[0m \u001b[0;34m\u001b[0m\u001b[0m\n",
      "\u001b[0;32m/anaconda3/lib/python3.7/site-packages/sklearn/svm/base.py\u001b[0m in \u001b[0;36mfit\u001b[0;34m(self, X, y, sample_weight)\u001b[0m\n\u001b[1;32m    145\u001b[0m                          \u001b[0morder\u001b[0m\u001b[0;34m=\u001b[0m\u001b[0;34m'C'\u001b[0m\u001b[0;34m,\u001b[0m \u001b[0maccept_sparse\u001b[0m\u001b[0;34m=\u001b[0m\u001b[0;34m'csr'\u001b[0m\u001b[0;34m,\u001b[0m\u001b[0;34m\u001b[0m\u001b[0;34m\u001b[0m\u001b[0m\n\u001b[1;32m    146\u001b[0m                          accept_large_sparse=False)\n\u001b[0;32m--> 147\u001b[0;31m         \u001b[0my\u001b[0m \u001b[0;34m=\u001b[0m \u001b[0mself\u001b[0m\u001b[0;34m.\u001b[0m\u001b[0m_validate_targets\u001b[0m\u001b[0;34m(\u001b[0m\u001b[0my\u001b[0m\u001b[0;34m)\u001b[0m\u001b[0;34m\u001b[0m\u001b[0;34m\u001b[0m\u001b[0m\n\u001b[0m\u001b[1;32m    148\u001b[0m \u001b[0;34m\u001b[0m\u001b[0m\n\u001b[1;32m    149\u001b[0m         sample_weight = np.asarray([]\n",
      "\u001b[0;32m/anaconda3/lib/python3.7/site-packages/sklearn/svm/base.py\u001b[0m in \u001b[0;36m_validate_targets\u001b[0;34m(self, y)\u001b[0m\n\u001b[1;32m    519\u001b[0m             raise ValueError(\n\u001b[1;32m    520\u001b[0m                 \u001b[0;34m\"The number of classes has to be greater than one; got %d\"\u001b[0m\u001b[0;34m\u001b[0m\u001b[0;34m\u001b[0m\u001b[0m\n\u001b[0;32m--> 521\u001b[0;31m                 \" class\" % len(cls))\n\u001b[0m\u001b[1;32m    522\u001b[0m \u001b[0;34m\u001b[0m\u001b[0m\n\u001b[1;32m    523\u001b[0m         \u001b[0mself\u001b[0m\u001b[0;34m.\u001b[0m\u001b[0mclasses_\u001b[0m \u001b[0;34m=\u001b[0m \u001b[0mcls\u001b[0m\u001b[0;34m\u001b[0m\u001b[0;34m\u001b[0m\u001b[0m\n",
      "\u001b[0;31mValueError\u001b[0m: The number of classes has to be greater than one; got 1 class"
     ]
    }
   ],
   "source": [
    "# only cluster -0 and -4 have both known & unknown datapoints\n",
    "vals0 = sub0_k.values\n",
    "X0 = vals0[:, :-1]\n",
    "y0 = vals0[:, -1]\n",
    "\n",
    "X0_train, X0_test, y0_train, y0_test = train_test_split(X0, y0, test_size=0.1, random_state=550)\n",
    "\n",
    "create_scaler = create_scaler_minmax\n",
    "scaler = create_scaler()\n",
    "scaler.fit(X0_train)\n",
    "X0_train = scaler.transform(X0_train)\n",
    "X0_test = scaler.transform(X0_test)\n",
    "\n",
    "svm_clf0 = SVC(kernel='rbf', gamma='auto')\n",
    "svm_clf0.fit(X0_train, y0_train)\n",
    "y0_pred = svm_clf0.predict(X0_test)\n",
    "\n",
    "# perforance\n",
    "from sklearn.model_selection import cross_val_score\n",
    "score0 = cross_val_score(svm_clf0, X0_train, y0_train, cv = 5)\n",
    "print(score0)\n",
    "print(score0.mean())\n",
    "\n",
    "# prediction class for unknown data point\n",
    "y0_pred_hat = svm_clf0.predict(sub0_un.values)\n",
    "predic_class = []\n",
    "predic_class = predic_class.append(y0_pred_hat)"
   ]
  },
  {
   "cell_type": "code",
   "execution_count": 319,
   "metadata": {},
   "outputs": [],
   "source": [
    "# not-clustered / overall SVM model\n",
    "whole = data.loc[data['class'] != -1]\n",
    "whole = whole.drop('KmeansCluster', 1)\n",
    "\n",
    "whole_un = data.loc[data['class'] == -1]\n",
    "whole_un = whole_un.drop('class', 1)\n",
    "whole_un = whole_un.drop('KmeansCluster', 1)\n",
    "\n",
    "# split to X and y\n",
    "# X is all the features' data, y is all the class data\n",
    "whole_vals = whole.values\n",
    "X = whole_vals[:, :-1]\n",
    "y = whole_vals[:, -1]"
   ]
  },
  {
   "cell_type": "code",
   "execution_count": 320,
   "metadata": {},
   "outputs": [],
   "source": [
    "# split the data into train and test set（10%）randomly\n",
    "# scale the data before using SVM\n",
    "\n",
    "X_train, X_test, y_train, y_test = train_test_split(X, y, test_size=0.3, random_state=1000)\n",
    "\n",
    "create_scaler = create_scaler_minmax\n",
    "scaler = create_scaler()\n",
    "scaler.fit(X_train)\n",
    "X_train = scaler.transform(X_train)\n",
    "X_test = scaler.transform(X_test)"
   ]
  },
  {
   "cell_type": "code",
   "execution_count": 321,
   "metadata": {},
   "outputs": [
    {
     "name": "stdout",
     "output_type": "stream",
     "text": [
      "              precision    recall  f1-score   support\n",
      "\n",
      "     class 0       0.99      1.00      1.00       620\n",
      "     class 1       0.00      0.00      0.00         5\n",
      "\n",
      "    accuracy                           0.99       625\n",
      "   macro avg       0.50      0.50      0.50       625\n",
      "weighted avg       0.98      0.99      0.99       625\n",
      "\n"
     ]
    },
    {
     "name": "stderr",
     "output_type": "stream",
     "text": [
      "/anaconda3/lib/python3.7/site-packages/sklearn/metrics/classification.py:1437: UndefinedMetricWarning: Precision and F-score are ill-defined and being set to 0.0 in labels with no predicted samples.\n",
      "  'precision', 'predicted', average, warn_for)\n"
     ]
    }
   ],
   "source": [
    "svm_clf = SVC(kernel='rbf', gamma='auto')\n",
    "svm_clf.fit(X_train, y_train)\n",
    "y_pred = svm_clf.predict(X_test)\n",
    "\n",
    "# performance\n",
    "from sklearn.metrics import classification_report\n",
    "target_names = ['class 0', 'class 1']\n",
    "print(classification_report(y_test, y_pred, target_names=target_names))"
   ]
  },
  {
   "cell_type": "code",
   "execution_count": 322,
   "metadata": {},
   "outputs": [],
   "source": [
    "predic_class_whole = svm_clf.predict(whole_un.values)"
   ]
  },
  {
   "cell_type": "code",
   "execution_count": 325,
   "metadata": {},
   "outputs": [],
   "source": [
    "whole_un['predic_class'] = predic_class_whole"
   ]
  },
  {
   "cell_type": "code",
   "execution_count": 327,
   "metadata": {},
   "outputs": [
    {
     "data": {
      "text/plain": [
       "2       0\n",
       "4       0\n",
       "5       0\n",
       "7       0\n",
       "10      0\n",
       "       ..\n",
       "4421    0\n",
       "4422    0\n",
       "4423    0\n",
       "4424    0\n",
       "4425    0\n",
       "Name: predic_class, Length: 2344, dtype: int64"
      ]
     },
     "execution_count": 327,
     "metadata": {},
     "output_type": "execute_result"
    }
   ],
   "source": [
    "whole_un['predic_class'].astype(int)"
   ]
  },
  {
   "cell_type": "code",
   "execution_count": 328,
   "metadata": {},
   "outputs": [
    {
     "data": {
      "text/html": [
       "<div>\n",
       "<style scoped>\n",
       "    .dataframe tbody tr th:only-of-type {\n",
       "        vertical-align: middle;\n",
       "    }\n",
       "\n",
       "    .dataframe tbody tr th {\n",
       "        vertical-align: top;\n",
       "    }\n",
       "\n",
       "    .dataframe thead th {\n",
       "        text-align: right;\n",
       "    }\n",
       "</style>\n",
       "<table border=\"1\" class=\"dataframe\">\n",
       "  <thead>\n",
       "    <tr style=\"text-align: right;\">\n",
       "      <th></th>\n",
       "      <th>date</th>\n",
       "      <th>lat</th>\n",
       "      <th>lon</th>\n",
       "      <th>predic_class</th>\n",
       "    </tr>\n",
       "  </thead>\n",
       "  <tbody>\n",
       "  </tbody>\n",
       "</table>\n",
       "</div>"
      ],
      "text/plain": [
       "Empty DataFrame\n",
       "Columns: [date, lat, lon, predic_class]\n",
       "Index: []"
      ]
     },
     "execution_count": 328,
     "metadata": {},
     "output_type": "execute_result"
    }
   ],
   "source": [
    "whole_un.loc[whole_un['predic_class'] == 1]"
   ]
  },
  {
   "cell_type": "markdown",
   "metadata": {},
   "source": [
    "***Reference***\n",
    "1. imbalance data \n",
    "\n",
    "https://towardsdatascience.com/how-to-deal-with-imbalanced-data-34ab7db9b100\n",
    "\n",
    "should upsample the data (<10k), check performance matrics\n",
    "\n",
    "https://stats.stackexchange.com/questions/122095/does-support-vector-machine-handle-imbalanced-dataset\n",
    "\n",
    "https://stats.stackexchange.com/questions/94295/svm-for-unbalanced-data\n",
    "\n",
    "class weighted SVM\n",
    "\n",
    "https://scikit-learn.org/stable/auto_examples/svm/plot_separating_hyperplane_unbalanced.html\n",
    "\n",
    "   \n",
    "2. change datetime type into integers \n",
    "\n",
    "https://www.geeksforgeeks.org/python-pandas-timestamp-toordinal/\n",
    "\n",
    "3. supervised clustering \n",
    "\n",
    "https://stats.stackexchange.com/questions/37587/supervised-clustering-or-classification\n",
    "\n",
    "4. kmeans normalization\n",
    "\n",
    "https://datascience.stackexchange.com/questions/6715/is-it-necessary-to-standardize-your-data-before-clustering\n",
    "\n",
    "5. find best k for kmeans\n",
    "\n",
    "https://medium.com/analytics-vidhya/how-to-determine-the-optimal-k-for-k-means-708505d204eb\n",
    "\n",
    "6. cluster then classify\n",
    "\n",
    "https://towardsdatascience.com/cluster-then-predict-for-classification-tasks-142fdfdc87d6"
   ]
  }
 ],
 "metadata": {
  "kernelspec": {
   "display_name": "Python 3",
   "language": "python",
   "name": "python3"
  },
  "language_info": {
   "codemirror_mode": {
    "name": "ipython",
    "version": 3
   },
   "file_extension": ".py",
   "mimetype": "text/x-python",
   "name": "python",
   "nbconvert_exporter": "python",
   "pygments_lexer": "ipython3",
   "version": "3.7.1"
  }
 },
 "nbformat": 4,
 "nbformat_minor": 2
}
