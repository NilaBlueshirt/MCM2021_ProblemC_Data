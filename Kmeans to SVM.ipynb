{
 "cells": [
  {
   "cell_type": "code",
   "execution_count": 422,
   "metadata": {},
   "outputs": [],
   "source": [
    "# compatibility with Python 2\n",
    "from __future__ import print_function\n",
    "\n",
    "# preprocess\n",
    "from sklearn import preprocessing\n",
    "from sklearn.preprocessing import StandardScaler, normalize\n",
    "from sklearn.preprocessing import MinMaxScaler\n",
    "\n",
    "# To import the classifier (SVM classifier)\n",
    "from sklearn.svm import SVC\n",
    "\n",
    "# To measure accuracy\n",
    "from sklearn import metrics\n",
    "from sklearn.model_selection import train_test_split, RandomizedSearchCV, GridSearchCV\n",
    "\n",
    "# computes distance between each pair of two collections of inputs\n",
    "from scipy.spatial.distance import pdist\n",
    "\n",
    "# repaired matrix by averaging; probably the best can do without domain-specific information\n",
    "from sklearn.utils.validation import check_symmetric\n",
    "\n",
    "# clustering-related methods\n",
    "from sklearn.cluster import KMeans\n",
    "from sklearn.metrics import pairwise_distances\n",
    "from sklearn.metrics import silhouette_score \n",
    "\n",
    "# dimensionality reduction\n",
    "from sklearn.decomposition import PCA\n",
    "\n",
    "# support plots\n",
    "from ipywidgets import interact\n",
    "import ipywidgets as widgets\n",
    "import matplotlib as mpl\n",
    "import matplotlib.pyplot as plt\n",
    "from matplotlib import cm\n",
    "\n",
    "import seaborn as sns; sns.set()\n",
    "import networkx as nx\n",
    "\n",
    "import numpy as np\n",
    "import pandas as pd\n",
    "import math\n",
    "\n",
    "# To increase quality of figures\n",
    "plt.rcParams[\"figure.figsize\"] = (20, 7)\n",
    "\n",
    "# display all the plots inline\n",
    "%matplotlib inline\n",
    "\n",
    "# fs-related operations\n",
    "import os\n",
    "\n",
    "# download files\n",
    "import requests\n",
    "\n",
    "#float_formatter = lambda x: \"%.3f\" % x\n",
    "#np.set_printoptions(formatter={'float_kind':float_formatter})\n",
    "\n",
    "# To import the scalers\n",
    "from sklearn.preprocessing import StandardScaler\n",
    "from sklearn.preprocessing import MinMaxScaler\n",
    "from sklearn.preprocessing import Binarizer\n",
    "\n",
    "\n",
    "class DummyScaler:\n",
    "    \n",
    "    def fit(self, data):\n",
    "        pass\n",
    "    \n",
    "    def transform(self, data):\n",
    "        return data\n",
    "\n",
    "def create_scaler_dummy():\n",
    "    return DummyScaler()\n",
    "    \n",
    "def create_scaler_standard():\n",
    "    return StandardScaler()\n",
    "\n",
    "def create_scaler_minmax():\n",
    "    return MinMaxScaler()\n",
    "\n",
    "def crete_scaler_binarizer():\n",
    "    return Binarizer()\n",
    "\n",
    "data = pd.read_excel('../c/data.xlsx') "
   ]
  },
  {
   "cell_type": "code",
   "execution_count": 423,
   "metadata": {
    "scrolled": true
   },
   "outputs": [],
   "source": [
    "# significant imbalanced sample\n",
    "data['Lab Status'].value_counts()\n",
    "\n",
    "# adding label as a new column to data\n",
    "# assign class 0 to the negative id in [lab status], class 1 to positive\n",
    "# class 0 and 1 are training set, the rest is test set\n",
    "\n",
    "data['label']= -1\n",
    "data.loc[data['Lab Status'] == 'Positive ID', 'label'] = 1\n",
    "data.loc[data['Lab Status'] == 'Negative ID', 'label'] = 0"
   ]
  },
  {
   "cell_type": "code",
   "execution_count": 424,
   "metadata": {},
   "outputs": [],
   "source": [
    "# seperate unknown data for later\n",
    "unknown_pic = data.loc[data['label']== -1]\n",
    "\n",
    "# remove all the missing / irrelevent values\n",
    "# data = data[data.label != -1]\n",
    "data = data.drop('GlobalID', axis = 1)\n",
    "data = data.drop('Notes', axis = 1)\n",
    "data = data.drop('Lab Status', axis = 1)\n",
    "data = data.drop('Submission Date', axis = 1)\n",
    "data = data.drop('Lab Comments', axis = 1)"
   ]
  },
  {
   "cell_type": "code",
   "execution_count": 425,
   "metadata": {},
   "outputs": [],
   "source": [
    "data.columns = ['date','lat', 'lon', 'class']\n",
    "type(data.date[1])\n",
    "\n",
    "data = data[data.date != 0]\n",
    "data = data[data.lat != 0]\n",
    "data = data[data.lon != 0]\n",
    "data\n",
    "\n",
    "# change datetime type into integers\n",
    "from datetime import datetime\n",
    "data['date'] = data['date'].astype(str)\n",
    "\n",
    "type(data.date[3])\n",
    "\n",
    "data['date'] = pd.to_datetime(data['date'], format='%Y-%m-%d')\n",
    "\n",
    "# Manually delete case with the abnormal date causing error, already done\n",
    "data['date'] = pd.to_datetime(data['date'], format='%Y-%m-%d')\n",
    "data.head()\n",
    "\n",
    "type(data.date[3])\n",
    "\n",
    "data['date'] = data['date'].apply(datetime.toordinal)"
   ]
  },
  {
   "cell_type": "markdown",
   "metadata": {},
   "source": [
    "# Step 1: K-Means clustering"
   ]
  },
  {
   "cell_type": "code",
   "execution_count": 426,
   "metadata": {},
   "outputs": [
    {
     "data": {
      "application/vnd.jupyter.widget-view+json": {
       "model_id": "6352fbda23604b14a4b860a43c173c4f",
       "version_major": 2,
       "version_minor": 0
      },
      "text/plain": [
       "interactive(children=(IntSlider(value=1, continuous_update=False, description='N clusters:', max=20, min=1), O…"
      ]
     },
     "metadata": {},
     "output_type": "display_data"
    },
    {
     "data": {
      "text/plain": [
       "<function __main__.create_plot_kmeans_digits.<locals>.plot_kmeans_digits(n_clusters=10)>"
      ]
     },
     "execution_count": 426,
     "metadata": {},
     "output_type": "execute_result"
    }
   ],
   "source": [
    "df = data\n",
    "\n",
    "# preprocess data for clustering\n",
    "\n",
    "X = df.drop(['class'], axis = 1)\n",
    "X = StandardScaler().fit_transform(df)\n",
    "X\n",
    "\n",
    "# use PCA (principal component analysis) to reduce dimension to 2 to simply visualize the data\n",
    "\n",
    "pca_model = PCA(n_components=2)\n",
    "X_reduced = pca_model.fit_transform(X)\n",
    "\n",
    "# Here we use closure to store the related variables\n",
    "\n",
    "def create_plot_kmeans_digits(_X, _y, _n_classes):\n",
    "    X, y = _X, _y\n",
    "    n_classes = _n_classes\n",
    "    colors = np.array([cm.tab20(i) for i in range(100)])\n",
    "\n",
    "# set K randomly for initialisation\n",
    "\n",
    "    def plot_kmeans_digits(n_clusters=10):\n",
    "        expand=1\n",
    "        kmeans = KMeans(init='k-means++', n_clusters=n_clusters, n_init=10, random_state=520, max_iter=1000, n_jobs=-1)\n",
    "        kmeans.fit(X)\n",
    "        y_predicted = kmeans.predict(X)\n",
    "        fig, (ax1, ax2) = plt.subplots(1, 2)\n",
    "        ax1.plot((np.min(X_reduced[:, 0])-expand, np.max(X_reduced[:, 0])+expand), \n",
    "                 (np.min(X_reduced[:, 1])-expand, np.max(X_reduced[:, 1])+expand),\n",
    "                 alpha=0.0)\n",
    "        xlim = ax1.get_xlim()\n",
    "        ylim = ax1.get_ylim()\n",
    "        ax1.scatter(X_reduced[:, 0], X_reduced[:, 1], c=colors[y_predicted])\n",
    "        ax1.set_xlabel('pca #1')\n",
    "        ax1.set_ylabel('pca #2') \n",
    "        centers = np.array(kmeans.cluster_centers_)\n",
    "        ax1.scatter(centers[:, 0], centers[:, 1], marker=\"x\", color='k', s=64)\n",
    "        matrix = np.zeros((n_clusters, n_classes))\n",
    "        for cluster in range(n_clusters):\n",
    "            for cl in range(n_classes):\n",
    "                matrix[cluster, cl] = np.sum(y[y_predicted == cluster]==cl)\n",
    "        sns.heatmap(matrix, annot=True, fmt='g', ax=ax2)\n",
    "        ax2.set_xlabel('Class')\n",
    "        ax2.set_ylabel('Cluster')\n",
    "        print('Inertia:', kmeans.inertia_)\n",
    "        plt.savefig('../c/KmeansFindK.png')\n",
    "        plt.show()\n",
    "    return plot_kmeans_digits\n",
    "\n",
    "n_clusters_widget = widgets.IntSlider(\n",
    "    value=1,\n",
    "    min=1,\n",
    "    max=20,\n",
    "    step=1,\n",
    "    continuous_update=False,\n",
    "    description='N clusters:')\n",
    "interact(create_plot_kmeans_digits(X_reduced, y_predicted, 10),\n",
    "         n_clusters=n_clusters_widget)"
   ]
  },
  {
   "cell_type": "code",
   "execution_count": 427,
   "metadata": {},
   "outputs": [],
   "source": [
    "# If class labels are not available, within-cluster sum of squares (inertia) can be used\n",
    "# inertia: how far away the points within a cluster are，the smaller the better\n",
    "\n",
    "n_clusters = range(1, 30)\n",
    "inertia = np.zeros(len(n_clusters))\n",
    "for i, clusters in enumerate(n_clusters):\n",
    "    kmeans = KMeans(init='k-means++', n_clusters=clusters, n_init=10, random_state=520, max_iter=1000, n_jobs=-1)\n",
    "    kmeans.fit(X)\n",
    "    inertia[i] = kmeans.inertia_\n",
    "    y_predicted = kmeans.predict(X)"
   ]
  },
  {
   "cell_type": "code",
   "execution_count": 428,
   "metadata": {},
   "outputs": [
    {
     "data": {
      "image/png": "[encoded data removed]",
      "text/plain": [
       "<Figure size 432x288 with 1 Axes>"
      ]
     },
     "metadata": {
      "needs_background": "light"
     },
     "output_type": "display_data"
    }
   ],
   "source": [
    "plt.plot(n_clusters, inertia)\n",
    "plt.title('Kmeans: inertia')\n",
    "plt.xlabel('# of clusters')\n",
    "plt.ylabel('Inertia')\n",
    "plt.savefig('../c/KmeansInertia.png')\n",
    "plt.show()"
   ]
  },
  {
   "cell_type": "code",
   "execution_count": 429,
   "metadata": {},
   "outputs": [
    {
     "name": "stdout",
     "output_type": "stream",
     "text": [
      "0.4912524609314346\n",
      "2700.458935502707\n"
     ]
    }
   ],
   "source": [
    "# try for 10\n",
    "\n",
    "k_means = KMeans(n_clusters=10)\n",
    "\n",
    "#Run the clustering algorithm\n",
    "model = k_means.fit(X)\n",
    "model\n",
    "\n",
    "#Generate cluster predictions and store in y_hat\n",
    "y_hat = k_means.predict(X)\n",
    "\n",
    "labels = k_means.labels_\n",
    "\n",
    "# Calculating the silhouette coefficient, A high value is desirable\n",
    "print(metrics.silhouette_score(X, labels, metric = 'euclidean'))\n",
    "\n",
    "# CH score, A high value is desirable\n",
    "print(metrics.calinski_harabasz_score(X, labels))"
   ]
  },
  {
   "cell_type": "code",
   "execution_count": 430,
   "metadata": {},
   "outputs": [
    {
     "name": "stdout",
     "output_type": "stream",
     "text": [
      "0.4549379492146976\n",
      "1922.447744388791\n"
     ]
    }
   ],
   "source": [
    "# try for other number of clusters (= 4)\n",
    "k_means_4 = KMeans(n_clusters=4)\n",
    "model = k_means_4.fit(X)\n",
    "y_hat_4 = k_means_4.predict(X)\n",
    "labels_4 = k_means_4.labels_\n",
    "print(metrics.silhouette_score(X, labels_4, metric = 'euclidean'))\n",
    "print(metrics.calinski_harabasz_score(X, labels_4))"
   ]
  },
  {
   "cell_type": "code",
   "execution_count": 431,
   "metadata": {},
   "outputs": [
    {
     "name": "stdout",
     "output_type": "stream",
     "text": [
      "0.4408457620147509\n",
      "1616.0288563480335\n"
     ]
    }
   ],
   "source": [
    "# try for other number of clusters (= 3)\n",
    "k_means_3 = KMeans(n_clusters=3)\n",
    "model = k_means_3.fit(X)\n",
    "y_hat_3 = k_means_3.predict(X)\n",
    "labels_3 = k_means_3.labels_\n",
    "print(metrics.silhouette_score(X, labels_3, metric = 'euclidean'))\n",
    "print(metrics.calinski_harabasz_score(X, labels_3))"
   ]
  },
  {
   "cell_type": "code",
   "execution_count": 432,
   "metadata": {},
   "outputs": [
    {
     "name": "stdout",
     "output_type": "stream",
     "text": [
      "0.48540678225788625\n",
      "2721.7572942052434\n"
     ]
    }
   ],
   "source": [
    "# try for other number of clusters (= 9)\n",
    "k_means_9 = KMeans(n_clusters=9)\n",
    "model = k_means_9.fit(X)\n",
    "y_hat_9 = k_means_9.predict(X)\n",
    "labels_9 = k_means_9.labels_\n",
    "print(metrics.silhouette_score(X, labels_9, metric = 'euclidean'))\n",
    "print(metrics.calinski_harabasz_score(X, labels_9))"
   ]
  },
  {
   "cell_type": "code",
   "execution_count": 433,
   "metadata": {},
   "outputs": [
    {
     "name": "stdout",
     "output_type": "stream",
     "text": [
      "0.4779765080063154\n",
      "1946.319333136316\n"
     ]
    }
   ],
   "source": [
    "# try for other number of clusters (=5)\n",
    "k_means_5 = KMeans(n_clusters=5)\n",
    "model = k_means_5.fit(X)\n",
    "y_hat_5 = k_means_5.predict(X)\n",
    "labels_5 = k_means_5.labels_\n",
    "print(metrics.silhouette_score(X, labels_5, metric = 'euclidean'))\n",
    "print(metrics.calinski_harabasz_score(X, labels_5))"
   ]
  },
  {
   "cell_type": "code",
   "execution_count": 434,
   "metadata": {},
   "outputs": [
    {
     "name": "stdout",
     "output_type": "stream",
     "text": [
      "0.46715418713131995\n",
      "2951.3957879107024\n"
     ]
    }
   ],
   "source": [
    "# try for other number of clusters (=15)\n",
    "k_means_15 = KMeans(n_clusters=15)\n",
    "model = k_means_15.fit(X)\n",
    "y_hat_15 = k_means_15.predict(X)\n",
    "labels_15 = k_means_15.labels_\n",
    "print(metrics.silhouette_score(X, labels_15, metric = 'euclidean'))\n",
    "print(metrics.calinski_harabasz_score(X, labels_15))"
   ]
  },
  {
   "cell_type": "code",
   "execution_count": 435,
   "metadata": {},
   "outputs": [],
   "source": [
    "# if choose n_clusters = 10, the clusters will be two small for svm\n",
    "# but can use clusters as one more features for svm\n",
    "#add label to the original dataframe\n",
    "\n",
    "df['KmeansCluster'] = labels"
   ]
  },
  {
   "cell_type": "code",
   "execution_count": 436,
   "metadata": {},
   "outputs": [
    {
     "data": {
      "text/plain": [
       "Index(['date', 'lat', 'lon', 'class', 'KmeansCluster'], dtype='object')"
      ]
     },
     "execution_count": 436,
     "metadata": {},
     "output_type": "execute_result"
    }
   ],
   "source": [
    "df.columns"
   ]
  },
  {
   "cell_type": "code",
   "execution_count": 437,
   "metadata": {},
   "outputs": [],
   "source": [
    "new_columns = ['date', 'lat', 'lon', 'KmeansCluster', 'class']"
   ]
  },
  {
   "cell_type": "code",
   "execution_count": 438,
   "metadata": {},
   "outputs": [],
   "source": [
    "df = df.reindex(columns = new_columns)"
   ]
  },
  {
   "cell_type": "markdown",
   "metadata": {},
   "source": [
    "# Step 2 : Class_Weighted SVM - RBF"
   ]
  },
  {
   "cell_type": "code",
   "execution_count": 439,
   "metadata": {},
   "outputs": [],
   "source": [
    "# SVM model on all df data\n",
    "whole = df.loc[df['class'] != -1]\n",
    "\n",
    "whole_un = df.loc[df['class'] == -1]\n",
    "whole_un = whole_un.drop('class', 1)\n",
    "\n",
    "\n",
    "# split to X and y\n",
    "# X is all the features' data, y is all the class data\n",
    "whole_vals = whole.values\n",
    "X = whole_vals[:, :-1]\n",
    "y = whole_vals[:, -1]"
   ]
  },
  {
   "cell_type": "code",
   "execution_count": 440,
   "metadata": {},
   "outputs": [],
   "source": [
    "# split the data into train and test set（10%）randomly\n",
    "# scale the data before using SVM\n",
    "\n",
    "X_train, X_test, y_train, y_test = train_test_split(X, y, test_size=0.3, random_state=1000)\n",
    "\n",
    "create_scaler = create_scaler_minmax\n",
    "scaler = create_scaler()\n",
    "scaler.fit(X_train)\n",
    "X_train = scaler.transform(X_train)\n",
    "X_test = scaler.transform(X_test)"
   ]
  },
  {
   "cell_type": "code",
   "execution_count": 441,
   "metadata": {},
   "outputs": [
    {
     "name": "stdout",
     "output_type": "stream",
     "text": [
      "              precision    recall  f1-score   support\n",
      "\n",
      "     class 0       0.99      1.00      1.00       620\n",
      "     class 1       0.00      0.00      0.00         5\n",
      "\n",
      "    accuracy                           0.99       625\n",
      "   macro avg       0.50      0.50      0.50       625\n",
      "weighted avg       0.98      0.99      0.99       625\n",
      "\n"
     ]
    },
    {
     "name": "stderr",
     "output_type": "stream",
     "text": [
      "/anaconda3/lib/python3.7/site-packages/sklearn/metrics/classification.py:1437: UndefinedMetricWarning: Precision and F-score are ill-defined and being set to 0.0 in labels with no predicted samples.\n",
      "  'precision', 'predicted', average, warn_for)\n"
     ]
    }
   ],
   "source": [
    "svm_clf = SVC(kernel='rbf', gamma='auto')\n",
    "svm_clf.fit(X_train, y_train)\n",
    "y_pred = svm_clf.predict(X_test)\n",
    "\n",
    "# performance\n",
    "from sklearn.metrics import classification_report\n",
    "target_names = ['class 0', 'class 1']\n",
    "print(classification_report(y_test, y_pred, target_names=target_names))"
   ]
  },
  {
   "cell_type": "code",
   "execution_count": 442,
   "metadata": {},
   "outputs": [],
   "source": [
    "predic_class_whole = svm_clf.predict(whole_un.values)"
   ]
  },
  {
   "cell_type": "code",
   "execution_count": 443,
   "metadata": {},
   "outputs": [],
   "source": [
    "whole_un['predic_class'] = predic_class_whole"
   ]
  },
  {
   "cell_type": "code",
   "execution_count": 444,
   "metadata": {},
   "outputs": [
    {
     "data": {
      "text/plain": [
       "2       0\n",
       "4       0\n",
       "5       0\n",
       "7       0\n",
       "10      0\n",
       "       ..\n",
       "4421    0\n",
       "4422    0\n",
       "4423    0\n",
       "4424    0\n",
       "4425    0\n",
       "Name: predic_class, Length: 2344, dtype: int64"
      ]
     },
     "execution_count": 444,
     "metadata": {},
     "output_type": "execute_result"
    }
   ],
   "source": [
    "whole_un['predic_class'].astype(int)"
   ]
  },
  {
   "cell_type": "code",
   "execution_count": 445,
   "metadata": {},
   "outputs": [
    {
     "data": {
      "text/html": [
       "<div>\n",
       "<style scoped>\n",
       "    .dataframe tbody tr th:only-of-type {\n",
       "        vertical-align: middle;\n",
       "    }\n",
       "\n",
       "    .dataframe tbody tr th {\n",
       "        vertical-align: top;\n",
       "    }\n",
       "\n",
       "    .dataframe thead th {\n",
       "        text-align: right;\n",
       "    }\n",
       "</style>\n",
       "<table border=\"1\" class=\"dataframe\">\n",
       "  <thead>\n",
       "    <tr style=\"text-align: right;\">\n",
       "      <th></th>\n",
       "      <th>date</th>\n",
       "      <th>lat</th>\n",
       "      <th>lon</th>\n",
       "      <th>KmeansCluster</th>\n",
       "      <th>predic_class</th>\n",
       "    </tr>\n",
       "  </thead>\n",
       "  <tbody>\n",
       "  </tbody>\n",
       "</table>\n",
       "</div>"
      ],
      "text/plain": [
       "Empty DataFrame\n",
       "Columns: [date, lat, lon, KmeansCluster, predic_class]\n",
       "Index: []"
      ]
     },
     "execution_count": 445,
     "metadata": {},
     "output_type": "execute_result"
    }
   ],
   "source": [
    "whole_un.loc[whole_un['predic_class'] == 1]"
   ]
  },
  {
   "cell_type": "markdown",
   "metadata": {},
   "source": [
    "***Reference***\n",
    "1. imbalance data \n",
    "\n",
    "https://towardsdatascience.com/how-to-deal-with-imbalanced-data-34ab7db9b100\n",
    "\n",
    "should upsample the data (<10k), check performance matrics\n",
    "\n",
    "https://stats.stackexchange.com/questions/122095/does-support-vector-machine-handle-imbalanced-dataset\n",
    "\n",
    "https://stats.stackexchange.com/questions/94295/svm-for-unbalanced-data\n",
    "\n",
    "class weighted SVM\n",
    "\n",
    "https://scikit-learn.org/stable/auto_examples/svm/plot_separating_hyperplane_unbalanced.html\n",
    "\n",
    "   \n",
    "2. change datetime type into integers \n",
    "\n",
    "https://www.geeksforgeeks.org/python-pandas-timestamp-toordinal/\n",
    "\n",
    "3. supervised clustering \n",
    "\n",
    "https://stats.stackexchange.com/questions/37587/supervised-clustering-or-classification\n",
    "\n",
    "4. kmeans normalization\n",
    "\n",
    "https://datascience.stackexchange.com/questions/6715/is-it-necessary-to-standardize-your-data-before-clustering\n",
    "\n",
    "5. find best k for kmeans\n",
    "\n",
    "https://medium.com/analytics-vidhya/how-to-determine-the-optimal-k-for-k-means-708505d204eb\n",
    "\n",
    "6. cluster then classify\n",
    "\n",
    "https://towardsdatascience.com/cluster-then-predict-for-classification-tasks-142fdfdc87d6"
   ]
  }
 ],
 "metadata": {
  "kernelspec": {
   "display_name": "Python 3",
   "language": "python",
   "name": "python3"
  },
  "language_info": {
   "codemirror_mode": {
    "name": "ipython",
    "version": 3
   },
   "file_extension": ".py",
   "mimetype": "text/x-python",
   "name": "python",
   "nbconvert_exporter": "python",
   "pygments_lexer": "ipython3",
   "version": "3.7.1"
  }
 },
 "nbformat": 4,
 "nbformat_minor": 2
}
