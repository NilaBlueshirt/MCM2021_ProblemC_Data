{
 "cells": [
  {
   "cell_type": "code",
   "execution_count": 2,
   "metadata": {},
   "outputs": [],
   "source": [
    "# compatibility with Python 2\n",
    "from __future__ import print_function\n",
    "\n",
    "# preprocess\n",
    "from sklearn import preprocessing\n",
    "from sklearn.preprocessing import StandardScaler, normalize\n",
    "from sklearn.preprocessing import MinMaxScaler\n",
    "\n",
    "# To import the classifier (SVM classifier)\n",
    "from sklearn.svm import SVC\n",
    "\n",
    "# To measure accuracy\n",
    "from sklearn import metrics\n",
    "from sklearn.model_selection import train_test_split, RandomizedSearchCV, GridSearchCV\n",
    "\n",
    "# computes distance between each pair of two collections of inputs\n",
    "from scipy.spatial.distance import pdist\n",
    "\n",
    "# repaired matrix by averaging; probably the best can do without domain-specific information\n",
    "from sklearn.utils.validation import check_symmetric\n",
    "\n",
    "# clustering-related methods\n",
    "from sklearn.cluster import KMeans\n",
    "from sklearn.metrics import pairwise_distances\n",
    "from sklearn.metrics import silhouette_score \n",
    "\n",
    "# dimensionality reduction\n",
    "from sklearn.decomposition import PCA\n",
    "\n",
    "# support plots\n",
    "from ipywidgets import interact\n",
    "import ipywidgets as widgets\n",
    "import matplotlib as mpl\n",
    "import matplotlib.pyplot as plt\n",
    "from matplotlib import cm\n",
    "\n",
    "import seaborn as sns; sns.set()\n",
    "import networkx as nx\n",
    "\n",
    "import numpy as np\n",
    "import pandas as pd\n",
    "import math\n",
    "\n",
    "# To increase quality of figures\n",
    "plt.rcParams[\"figure.figsize\"] = (20, 7)\n",
    "\n",
    "# display all the plots inline\n",
    "%matplotlib inline\n",
    "\n",
    "# fs-related operations\n",
    "import os\n",
    "\n",
    "# download files\n",
    "import requests\n",
    "\n",
    "#float_formatter = lambda x: \"%.3f\" % x\n",
    "#np.set_printoptions(formatter={'float_kind':float_formatter})"
   ]
  },
  {
   "cell_type": "code",
   "execution_count": 3,
   "metadata": {},
   "outputs": [],
   "source": [
    "# To import the scalers\n",
    "from sklearn.preprocessing import StandardScaler\n",
    "from sklearn.preprocessing import MinMaxScaler\n",
    "from sklearn.preprocessing import Binarizer\n",
    "\n",
    "\n",
    "class DummyScaler:\n",
    "    \n",
    "    def fit(self, data):\n",
    "        pass\n",
    "    \n",
    "    def transform(self, data):\n",
    "        return data\n",
    "\n",
    "def create_scaler_dummy():\n",
    "    return DummyScaler()\n",
    "    \n",
    "def create_scaler_standard():\n",
    "    return StandardScaler()\n",
    "\n",
    "def create_scaler_minmax():\n",
    "    return MinMaxScaler()\n",
    "\n",
    "def crete_scaler_binarizer():\n",
    "    return Binarizer()"
   ]
  },
  {
   "cell_type": "code",
   "execution_count": 4,
   "metadata": {},
   "outputs": [],
   "source": [
    "data = pd.read_excel('../c/data.xlsx') \n",
    "image = pd.read_excel('../c/image.xlsx')"
   ]
  },
  {
   "cell_type": "code",
   "execution_count": 5,
   "metadata": {},
   "outputs": [
    {
     "name": "stdout",
     "output_type": "stream",
     "text": [
      "(4426, 8)\n"
     ]
    },
    {
     "data": {
      "text/html": [
       "<div>\n",
       "<style scoped>\n",
       "    .dataframe tbody tr th:only-of-type {\n",
       "        vertical-align: middle;\n",
       "    }\n",
       "\n",
       "    .dataframe tbody tr th {\n",
       "        vertical-align: top;\n",
       "    }\n",
       "\n",
       "    .dataframe thead th {\n",
       "        text-align: right;\n",
       "    }\n",
       "</style>\n",
       "<table border=\"1\" class=\"dataframe\">\n",
       "  <thead>\n",
       "    <tr style=\"text-align: right;\">\n",
       "      <th></th>\n",
       "      <th>GlobalID</th>\n",
       "      <th>Detection Date</th>\n",
       "      <th>Notes</th>\n",
       "      <th>Lab Status</th>\n",
       "      <th>Lab Comments</th>\n",
       "      <th>Submission Date</th>\n",
       "      <th>Latitude</th>\n",
       "      <th>Longitude</th>\n",
       "    </tr>\n",
       "  </thead>\n",
       "  <tbody>\n",
       "    <tr>\n",
       "      <th>0</th>\n",
       "      <td>{5AC8034E-5B46-4294-85F0-5B13117EBEFE}</td>\n",
       "      <td>2019-12-08</td>\n",
       "      <td>One dead wasp seen in Blaine, and suspect flyi...</td>\n",
       "      <td>Positive ID</td>\n",
       "      <td></td>\n",
       "      <td>2020-01-15</td>\n",
       "      <td>48.980994</td>\n",
       "      <td>-122.688503</td>\n",
       "    </tr>\n",
       "    <tr>\n",
       "      <th>1</th>\n",
       "      <td>{5EAD3364-2CA7-4A39-9A53-7F9DCF5D2041}</td>\n",
       "      <td>2019-10-30</td>\n",
       "      <td>Hornet specimen sent to WSU</td>\n",
       "      <td>Positive ID</td>\n",
       "      <td></td>\n",
       "      <td>2020-01-15</td>\n",
       "      <td>48.971949</td>\n",
       "      <td>-122.700941</td>\n",
       "    </tr>\n",
       "    <tr>\n",
       "      <th>2</th>\n",
       "      <td>{13B67BCB-AFCE-4100-AD2B-76EF178BA228}</td>\n",
       "      <td>2020-01-15</td>\n",
       "      <td>Massive loss of bees, decapitated. No hornet s...</td>\n",
       "      <td>Unverified</td>\n",
       "      <td></td>\n",
       "      <td>2020-01-15</td>\n",
       "      <td>48.939200</td>\n",
       "      <td>-122.661300</td>\n",
       "    </tr>\n",
       "    <tr>\n",
       "      <th>3</th>\n",
       "      <td>{124B9BFA-7F7B-4B8E-8A56-42E067F0F72E}</td>\n",
       "      <td>2019-09-19</td>\n",
       "      <td>This was the colony that was found and destroy...</td>\n",
       "      <td>Positive ID</td>\n",
       "      <td>Thanks for adding this, and the great pictures!</td>\n",
       "      <td>2020-02-04</td>\n",
       "      <td>49.149394</td>\n",
       "      <td>-123.943134</td>\n",
       "    </tr>\n",
       "    <tr>\n",
       "      <th>4</th>\n",
       "      <td>{BBBA5BA0-CAFB-43D3-8F1D-FB2D9CF777E0}</td>\n",
       "      <td>2019-08-31</td>\n",
       "      <td>I was cleaning my gutters when I heard a snapp...</td>\n",
       "      <td>Unverified</td>\n",
       "      <td>Thanks for this report. I can't verify it from...</td>\n",
       "      <td>2020-02-14</td>\n",
       "      <td>48.723779</td>\n",
       "      <td>-122.354431</td>\n",
       "    </tr>\n",
       "  </tbody>\n",
       "</table>\n",
       "</div>"
      ],
      "text/plain": [
       "                                 GlobalID Detection Date  \\\n",
       "0  {5AC8034E-5B46-4294-85F0-5B13117EBEFE}     2019-12-08   \n",
       "1  {5EAD3364-2CA7-4A39-9A53-7F9DCF5D2041}     2019-10-30   \n",
       "2  {13B67BCB-AFCE-4100-AD2B-76EF178BA228}     2020-01-15   \n",
       "3  {124B9BFA-7F7B-4B8E-8A56-42E067F0F72E}     2019-09-19   \n",
       "4  {BBBA5BA0-CAFB-43D3-8F1D-FB2D9CF777E0}     2019-08-31   \n",
       "\n",
       "                                               Notes   Lab Status  \\\n",
       "0  One dead wasp seen in Blaine, and suspect flyi...  Positive ID   \n",
       "1                        Hornet specimen sent to WSU  Positive ID   \n",
       "2  Massive loss of bees, decapitated. No hornet s...   Unverified   \n",
       "3  This was the colony that was found and destroy...  Positive ID   \n",
       "4  I was cleaning my gutters when I heard a snapp...   Unverified   \n",
       "\n",
       "                                        Lab Comments Submission Date  \\\n",
       "0                                                         2020-01-15   \n",
       "1                                                         2020-01-15   \n",
       "2                                                         2020-01-15   \n",
       "3    Thanks for adding this, and the great pictures!      2020-02-04   \n",
       "4  Thanks for this report. I can't verify it from...      2020-02-14   \n",
       "\n",
       "    Latitude   Longitude  \n",
       "0  48.980994 -122.688503  \n",
       "1  48.971949 -122.700941  \n",
       "2  48.939200 -122.661300  \n",
       "3  49.149394 -123.943134  \n",
       "4  48.723779 -122.354431  "
      ]
     },
     "execution_count": 5,
     "metadata": {},
     "output_type": "execute_result"
    }
   ],
   "source": [
    "print(data.shape)\n",
    "data.head(5)"
   ]
  },
  {
   "cell_type": "code",
   "execution_count": 6,
   "metadata": {},
   "outputs": [
    {
     "name": "stdout",
     "output_type": "stream",
     "text": [
      "(3305, 3)\n"
     ]
    },
    {
     "data": {
      "text/html": [
       "<div>\n",
       "<style scoped>\n",
       "    .dataframe tbody tr th:only-of-type {\n",
       "        vertical-align: middle;\n",
       "    }\n",
       "\n",
       "    .dataframe tbody tr th {\n",
       "        vertical-align: top;\n",
       "    }\n",
       "\n",
       "    .dataframe thead th {\n",
       "        text-align: right;\n",
       "    }\n",
       "</style>\n",
       "<table border=\"1\" class=\"dataframe\">\n",
       "  <thead>\n",
       "    <tr style=\"text-align: right;\">\n",
       "      <th></th>\n",
       "      <th>FileName</th>\n",
       "      <th>GlobalID</th>\n",
       "      <th>FileType</th>\n",
       "    </tr>\n",
       "  </thead>\n",
       "  <tbody>\n",
       "    <tr>\n",
       "      <th>0</th>\n",
       "      <td>ATT1_DSCN9647.jpg</td>\n",
       "      <td>{5AC8034E-5B46-4294-85F0-5B13117EBEFE}</td>\n",
       "      <td>image/jpg</td>\n",
       "    </tr>\n",
       "    <tr>\n",
       "      <th>1</th>\n",
       "      <td>ATT10_67EAF187-B59C-4F5F-BAAC-9F76E06A96D6.jpg</td>\n",
       "      <td>{C4F44511-EA53-4FCF-9422-E1C57703720D}</td>\n",
       "      <td>image/jpg</td>\n",
       "    </tr>\n",
       "    <tr>\n",
       "      <th>2</th>\n",
       "      <td>ATT100_inbound241937372812029587.jpg</td>\n",
       "      <td>{43506835-18B8-46B2-A2CB-586AF9C8ECE6}</td>\n",
       "      <td>image/jpg</td>\n",
       "    </tr>\n",
       "    <tr>\n",
       "      <th>3</th>\n",
       "      <td>ATT1000_A5A50BAB-A6EF-4576-A1F8-A07862AADE3A.jpg</td>\n",
       "      <td>{E0AE2F2A-38A5-463C-97B5-9F84A477F9AE}</td>\n",
       "      <td>image/jpg</td>\n",
       "    </tr>\n",
       "    <tr>\n",
       "      <th>4</th>\n",
       "      <td>ATT1001_8B9F8599-61EF-4690-B195-888BCD319F32.png</td>\n",
       "      <td>{1CD14B56-4046-44C4-B1B8-8FB07A9071E9}</td>\n",
       "      <td>image/png</td>\n",
       "    </tr>\n",
       "  </tbody>\n",
       "</table>\n",
       "</div>"
      ],
      "text/plain": [
       "                                           FileName  \\\n",
       "0                                 ATT1_DSCN9647.jpg   \n",
       "1    ATT10_67EAF187-B59C-4F5F-BAAC-9F76E06A96D6.jpg   \n",
       "2              ATT100_inbound241937372812029587.jpg   \n",
       "3  ATT1000_A5A50BAB-A6EF-4576-A1F8-A07862AADE3A.jpg   \n",
       "4  ATT1001_8B9F8599-61EF-4690-B195-888BCD319F32.png   \n",
       "\n",
       "                                 GlobalID   FileType  \n",
       "0  {5AC8034E-5B46-4294-85F0-5B13117EBEFE}  image/jpg  \n",
       "1  {C4F44511-EA53-4FCF-9422-E1C57703720D}  image/jpg  \n",
       "2  {43506835-18B8-46B2-A2CB-586AF9C8ECE6}  image/jpg  \n",
       "3  {E0AE2F2A-38A5-463C-97B5-9F84A477F9AE}  image/jpg  \n",
       "4  {1CD14B56-4046-44C4-B1B8-8FB07A9071E9}  image/png  "
      ]
     },
     "execution_count": 6,
     "metadata": {},
     "output_type": "execute_result"
    }
   ],
   "source": [
    "print(image.shape)\n",
    "image.head(5)"
   ]
  },
  {
   "cell_type": "markdown",
   "metadata": {},
   "source": [
    "# Q1 + Q3\n",
    "\n",
    "Address and discuss whether or not the spread of this pest over time can be predicted, and with what level of precision.\n",
    "\n",
    "Use your model to discuss how your classification analyses leads to prioritizing investigation of the reports most likely to be positive sightings."
   ]
  },
  {
   "cell_type": "markdown",
   "metadata": {},
   "source": [
    "# Step 0: Preprocess"
   ]
  },
  {
   "cell_type": "code",
   "execution_count": 7,
   "metadata": {},
   "outputs": [
    {
     "data": {
      "text/plain": [
       "Unverified     2329\n",
       "Negative ID    2068\n",
       "Unprocessed      15\n",
       "Positive ID      14\n",
       "Name: Lab Status, dtype: int64"
      ]
     },
     "execution_count": 7,
     "metadata": {},
     "output_type": "execute_result"
    }
   ],
   "source": [
    "# significant imbalanced sample\n",
    "data['Lab Status'].value_counts()"
   ]
  },
  {
   "cell_type": "code",
   "execution_count": 8,
   "metadata": {
    "scrolled": true
   },
   "outputs": [
    {
     "data": {
      "text/html": [
       "<div>\n",
       "<style scoped>\n",
       "    .dataframe tbody tr th:only-of-type {\n",
       "        vertical-align: middle;\n",
       "    }\n",
       "\n",
       "    .dataframe tbody tr th {\n",
       "        vertical-align: top;\n",
       "    }\n",
       "\n",
       "    .dataframe thead th {\n",
       "        text-align: right;\n",
       "    }\n",
       "</style>\n",
       "<table border=\"1\" class=\"dataframe\">\n",
       "  <thead>\n",
       "    <tr style=\"text-align: right;\">\n",
       "      <th></th>\n",
       "      <th>GlobalID</th>\n",
       "      <th>Detection Date</th>\n",
       "      <th>Notes</th>\n",
       "      <th>Lab Status</th>\n",
       "      <th>Lab Comments</th>\n",
       "      <th>Submission Date</th>\n",
       "      <th>Latitude</th>\n",
       "      <th>Longitude</th>\n",
       "      <th>label</th>\n",
       "    </tr>\n",
       "  </thead>\n",
       "  <tbody>\n",
       "    <tr>\n",
       "      <th>0</th>\n",
       "      <td>{5AC8034E-5B46-4294-85F0-5B13117EBEFE}</td>\n",
       "      <td>2019-12-08</td>\n",
       "      <td>One dead wasp seen in Blaine, and suspect flyi...</td>\n",
       "      <td>Positive ID</td>\n",
       "      <td></td>\n",
       "      <td>2020-01-15</td>\n",
       "      <td>48.980994</td>\n",
       "      <td>-122.688503</td>\n",
       "      <td>1</td>\n",
       "    </tr>\n",
       "    <tr>\n",
       "      <th>1</th>\n",
       "      <td>{5EAD3364-2CA7-4A39-9A53-7F9DCF5D2041}</td>\n",
       "      <td>2019-10-30</td>\n",
       "      <td>Hornet specimen sent to WSU</td>\n",
       "      <td>Positive ID</td>\n",
       "      <td></td>\n",
       "      <td>2020-01-15</td>\n",
       "      <td>48.971949</td>\n",
       "      <td>-122.700941</td>\n",
       "      <td>1</td>\n",
       "    </tr>\n",
       "    <tr>\n",
       "      <th>2</th>\n",
       "      <td>{13B67BCB-AFCE-4100-AD2B-76EF178BA228}</td>\n",
       "      <td>2020-01-15</td>\n",
       "      <td>Massive loss of bees, decapitated. No hornet s...</td>\n",
       "      <td>Unverified</td>\n",
       "      <td></td>\n",
       "      <td>2020-01-15</td>\n",
       "      <td>48.939200</td>\n",
       "      <td>-122.661300</td>\n",
       "      <td>-1</td>\n",
       "    </tr>\n",
       "    <tr>\n",
       "      <th>3</th>\n",
       "      <td>{124B9BFA-7F7B-4B8E-8A56-42E067F0F72E}</td>\n",
       "      <td>2019-09-19</td>\n",
       "      <td>This was the colony that was found and destroy...</td>\n",
       "      <td>Positive ID</td>\n",
       "      <td>Thanks for adding this, and the great pictures!</td>\n",
       "      <td>2020-02-04</td>\n",
       "      <td>49.149394</td>\n",
       "      <td>-123.943134</td>\n",
       "      <td>1</td>\n",
       "    </tr>\n",
       "    <tr>\n",
       "      <th>4</th>\n",
       "      <td>{BBBA5BA0-CAFB-43D3-8F1D-FB2D9CF777E0}</td>\n",
       "      <td>2019-08-31</td>\n",
       "      <td>I was cleaning my gutters when I heard a snapp...</td>\n",
       "      <td>Unverified</td>\n",
       "      <td>Thanks for this report. I can't verify it from...</td>\n",
       "      <td>2020-02-14</td>\n",
       "      <td>48.723779</td>\n",
       "      <td>-122.354431</td>\n",
       "      <td>-1</td>\n",
       "    </tr>\n",
       "    <tr>\n",
       "      <th>...</th>\n",
       "      <td>...</td>\n",
       "      <td>...</td>\n",
       "      <td>...</td>\n",
       "      <td>...</td>\n",
       "      <td>...</td>\n",
       "      <td>...</td>\n",
       "      <td>...</td>\n",
       "      <td>...</td>\n",
       "      <td>...</td>\n",
       "    </tr>\n",
       "    <tr>\n",
       "      <th>4421</th>\n",
       "      <td>{153C4ACC-72AE-4D87-AA80-4C714417F8C6}</td>\n",
       "      <td>2020-10-02</td>\n",
       "      <td>It was about an inch and a quarter in length. ...</td>\n",
       "      <td>Unprocessed</td>\n",
       "      <td></td>\n",
       "      <td>2020-10-23</td>\n",
       "      <td>47.145673</td>\n",
       "      <td>-122.566734</td>\n",
       "      <td>-1</td>\n",
       "    </tr>\n",
       "    <tr>\n",
       "      <th>4422</th>\n",
       "      <td>{26DDF8E2-DA0C-4F87-A65A-233115BAFCCD}</td>\n",
       "      <td>2020-08-29</td>\n",
       "      <td>I was stung several times on the 7th hole ov t...</td>\n",
       "      <td>Unprocessed</td>\n",
       "      <td></td>\n",
       "      <td>2020-10-23</td>\n",
       "      <td>48.997938</td>\n",
       "      <td>-122.729890</td>\n",
       "      <td>-1</td>\n",
       "    </tr>\n",
       "    <tr>\n",
       "      <th>4423</th>\n",
       "      <td>{3E50801D-9DBB-43DE-8D32-31CFA88C74D9}</td>\n",
       "      <td>2020-10-23</td>\n",
       "      <td>Found dead in humming bird feeder. Silverdale WA</td>\n",
       "      <td>Unprocessed</td>\n",
       "      <td></td>\n",
       "      <td>2020-10-23</td>\n",
       "      <td>47.651710</td>\n",
       "      <td>-122.692750</td>\n",
       "      <td>-1</td>\n",
       "    </tr>\n",
       "    <tr>\n",
       "      <th>4424</th>\n",
       "      <td>{9BA7BDD9-01A5-4776-99B0-89FCE08CA53B}</td>\n",
       "      <td>2020-10-19</td>\n",
       "      <td>I live on Bainbridge Island on a heavily woode...</td>\n",
       "      <td>Unprocessed</td>\n",
       "      <td></td>\n",
       "      <td>2020-10-23</td>\n",
       "      <td>47.690120</td>\n",
       "      <td>-122.509780</td>\n",
       "      <td>-1</td>\n",
       "    </tr>\n",
       "    <tr>\n",
       "      <th>4425</th>\n",
       "      <td>{7BD09981-CC6F-4FF8-8395-DABFF0D07A96}</td>\n",
       "      <td>2020-08-04</td>\n",
       "      <td>At Cresap bay campground in Washington, my fam...</td>\n",
       "      <td>Unprocessed</td>\n",
       "      <td></td>\n",
       "      <td>2020-10-23</td>\n",
       "      <td>45.968985</td>\n",
       "      <td>-122.386562</td>\n",
       "      <td>-1</td>\n",
       "    </tr>\n",
       "  </tbody>\n",
       "</table>\n",
       "<p>4426 rows × 9 columns</p>\n",
       "</div>"
      ],
      "text/plain": [
       "                                    GlobalID Detection Date  \\\n",
       "0     {5AC8034E-5B46-4294-85F0-5B13117EBEFE}     2019-12-08   \n",
       "1     {5EAD3364-2CA7-4A39-9A53-7F9DCF5D2041}     2019-10-30   \n",
       "2     {13B67BCB-AFCE-4100-AD2B-76EF178BA228}     2020-01-15   \n",
       "3     {124B9BFA-7F7B-4B8E-8A56-42E067F0F72E}     2019-09-19   \n",
       "4     {BBBA5BA0-CAFB-43D3-8F1D-FB2D9CF777E0}     2019-08-31   \n",
       "...                                      ...            ...   \n",
       "4421  {153C4ACC-72AE-4D87-AA80-4C714417F8C6}     2020-10-02   \n",
       "4422  {26DDF8E2-DA0C-4F87-A65A-233115BAFCCD}     2020-08-29   \n",
       "4423  {3E50801D-9DBB-43DE-8D32-31CFA88C74D9}     2020-10-23   \n",
       "4424  {9BA7BDD9-01A5-4776-99B0-89FCE08CA53B}     2020-10-19   \n",
       "4425  {7BD09981-CC6F-4FF8-8395-DABFF0D07A96}     2020-08-04   \n",
       "\n",
       "                                                  Notes   Lab Status  \\\n",
       "0     One dead wasp seen in Blaine, and suspect flyi...  Positive ID   \n",
       "1                           Hornet specimen sent to WSU  Positive ID   \n",
       "2     Massive loss of bees, decapitated. No hornet s...   Unverified   \n",
       "3     This was the colony that was found and destroy...  Positive ID   \n",
       "4     I was cleaning my gutters when I heard a snapp...   Unverified   \n",
       "...                                                 ...          ...   \n",
       "4421  It was about an inch and a quarter in length. ...  Unprocessed   \n",
       "4422  I was stung several times on the 7th hole ov t...  Unprocessed   \n",
       "4423   Found dead in humming bird feeder. Silverdale WA  Unprocessed   \n",
       "4424  I live on Bainbridge Island on a heavily woode...  Unprocessed   \n",
       "4425  At Cresap bay campground in Washington, my fam...  Unprocessed   \n",
       "\n",
       "                                           Lab Comments Submission Date  \\\n",
       "0                                                            2020-01-15   \n",
       "1                                                            2020-01-15   \n",
       "2                                                            2020-01-15   \n",
       "3       Thanks for adding this, and the great pictures!      2020-02-04   \n",
       "4     Thanks for this report. I can't verify it from...      2020-02-14   \n",
       "...                                                 ...             ...   \n",
       "4421                                                         2020-10-23   \n",
       "4422                                                         2020-10-23   \n",
       "4423                                                         2020-10-23   \n",
       "4424                                                         2020-10-23   \n",
       "4425                                                         2020-10-23   \n",
       "\n",
       "       Latitude   Longitude  label  \n",
       "0     48.980994 -122.688503      1  \n",
       "1     48.971949 -122.700941      1  \n",
       "2     48.939200 -122.661300     -1  \n",
       "3     49.149394 -123.943134      1  \n",
       "4     48.723779 -122.354431     -1  \n",
       "...         ...         ...    ...  \n",
       "4421  47.145673 -122.566734     -1  \n",
       "4422  48.997938 -122.729890     -1  \n",
       "4423  47.651710 -122.692750     -1  \n",
       "4424  47.690120 -122.509780     -1  \n",
       "4425  45.968985 -122.386562     -1  \n",
       "\n",
       "[4426 rows x 9 columns]"
      ]
     },
     "execution_count": 8,
     "metadata": {},
     "output_type": "execute_result"
    }
   ],
   "source": [
    "# adding label as a new column to data\n",
    "# assign class 0 to the negative id in [lab status], class 1 to positive\n",
    "# class 0 and 1 are training set, the rest is test set\n",
    "\n",
    "data['label']= -1\n",
    "data.loc[data['Lab Status'] == 'Positive ID', 'label'] = 1\n",
    "data.loc[data['Lab Status'] == 'Negative ID', 'label'] = 0\n",
    "data"
   ]
  },
  {
   "cell_type": "code",
   "execution_count": 9,
   "metadata": {},
   "outputs": [],
   "source": [
    "# posID = data.loc[data['Lab Status'] == 'Positive ID', 'GlobalID']\n",
    "# negaID = data.loc[data['Lab Status'] == 'Negative ID', 'GlobalID']\n",
    "# unverID = data.loc[data['Lab Status'] == 'Unverified', 'GlobalID']\n",
    "# unpID = data.loc[data['Lab Status'] == 'Unprocessed', 'GlobalID']\n",
    "\n",
    "# posID.to_csv('../mcm-c/PositiveGlobalID.csv')\n",
    "# negaID.to_csv('../mcm-c/NegativeGlobalID.csv')\n",
    "# unverID.to_csv('../mcm-c/UnverifiedGlobalID.csv')\n",
    "# unpID.to_csv('../mcm-c/UnprocessedGlobalID.csv')"
   ]
  },
  {
   "cell_type": "code",
   "execution_count": 10,
   "metadata": {},
   "outputs": [],
   "source": [
    "# # give the pictures tags based on GlobalID\n",
    "# pID = posID.values.tolist()\n",
    "# nID = negaID.values.tolist()\n",
    "# uvID = unverID.values.tolist()\n",
    "# upID = unpID.values.tolist()\n",
    "\n",
    "# kind_id = 0\n",
    "# def find_kind(x):\n",
    "#     kind = []\n",
    "#     for i in x:\n",
    "#         if i in pID:\n",
    "#             kind_id = 'positive'\n",
    "#             kind.appand(kind_id)\n",
    "#         elif i in nID:\n",
    "#             kind_id = 'negative'\n",
    "#             kind.appand(kind_id)\n",
    "#         elif i in uvID:\n",
    "#             kind_id = 'unverified'\n",
    "#             kind.appand(kind_id)\n",
    "#         elif i in upID:\n",
    "#             kind_id = 'unprocessed'\n",
    "#             kind.appand(kind_id)\n",
    "#         else:\n",
    "#             kind_id = 'NA'\n",
    "#             kind.appand(kind_id)\n",
    "        \n",
    "#     return kind_id\n",
    "# #image['kind'] = find_kind(image.loc[image['GlobalID']].values)"
   ]
  },
  {
   "cell_type": "code",
   "execution_count": 11,
   "metadata": {},
   "outputs": [],
   "source": [
    "# seperate unknown data for later\n",
    "unknown_pic = data.loc[data['label']== -1]\n",
    "\n",
    "# remove all the missing / irrelevent values\n",
    "# data = data[data.label != -1]\n",
    "data = data.drop('GlobalID', axis = 1)\n",
    "data = data.drop('Notes', axis = 1)\n",
    "data = data.drop('Lab Status', axis = 1)\n",
    "data = data.drop('Submission Date', axis = 1)\n",
    "data = data.drop('Lab Comments', axis = 1)"
   ]
  },
  {
   "cell_type": "code",
   "execution_count": 12,
   "metadata": {},
   "outputs": [
    {
     "data": {
      "text/plain": [
       "pandas._libs.tslibs.timestamps.Timestamp"
      ]
     },
     "execution_count": 12,
     "metadata": {},
     "output_type": "execute_result"
    }
   ],
   "source": [
    "data.columns = ['date','lat', 'lon', 'class']\n",
    "type(data.date[1])"
   ]
  },
  {
   "cell_type": "code",
   "execution_count": 13,
   "metadata": {},
   "outputs": [
    {
     "data": {
      "text/html": [
       "<div>\n",
       "<style scoped>\n",
       "    .dataframe tbody tr th:only-of-type {\n",
       "        vertical-align: middle;\n",
       "    }\n",
       "\n",
       "    .dataframe tbody tr th {\n",
       "        vertical-align: top;\n",
       "    }\n",
       "\n",
       "    .dataframe thead th {\n",
       "        text-align: right;\n",
       "    }\n",
       "</style>\n",
       "<table border=\"1\" class=\"dataframe\">\n",
       "  <thead>\n",
       "    <tr style=\"text-align: right;\">\n",
       "      <th></th>\n",
       "      <th>date</th>\n",
       "      <th>lat</th>\n",
       "      <th>lon</th>\n",
       "      <th>class</th>\n",
       "    </tr>\n",
       "  </thead>\n",
       "  <tbody>\n",
       "    <tr>\n",
       "      <th>0</th>\n",
       "      <td>2019-12-08</td>\n",
       "      <td>48.980994</td>\n",
       "      <td>-122.688503</td>\n",
       "      <td>1</td>\n",
       "    </tr>\n",
       "    <tr>\n",
       "      <th>1</th>\n",
       "      <td>2019-10-30</td>\n",
       "      <td>48.971949</td>\n",
       "      <td>-122.700941</td>\n",
       "      <td>1</td>\n",
       "    </tr>\n",
       "    <tr>\n",
       "      <th>2</th>\n",
       "      <td>2020-01-15</td>\n",
       "      <td>48.939200</td>\n",
       "      <td>-122.661300</td>\n",
       "      <td>-1</td>\n",
       "    </tr>\n",
       "    <tr>\n",
       "      <th>3</th>\n",
       "      <td>2019-09-19</td>\n",
       "      <td>49.149394</td>\n",
       "      <td>-123.943134</td>\n",
       "      <td>1</td>\n",
       "    </tr>\n",
       "    <tr>\n",
       "      <th>4</th>\n",
       "      <td>2019-08-31</td>\n",
       "      <td>48.723779</td>\n",
       "      <td>-122.354431</td>\n",
       "      <td>-1</td>\n",
       "    </tr>\n",
       "    <tr>\n",
       "      <th>...</th>\n",
       "      <td>...</td>\n",
       "      <td>...</td>\n",
       "      <td>...</td>\n",
       "      <td>...</td>\n",
       "    </tr>\n",
       "    <tr>\n",
       "      <th>4421</th>\n",
       "      <td>2020-10-02</td>\n",
       "      <td>47.145673</td>\n",
       "      <td>-122.566734</td>\n",
       "      <td>-1</td>\n",
       "    </tr>\n",
       "    <tr>\n",
       "      <th>4422</th>\n",
       "      <td>2020-08-29</td>\n",
       "      <td>48.997938</td>\n",
       "      <td>-122.729890</td>\n",
       "      <td>-1</td>\n",
       "    </tr>\n",
       "    <tr>\n",
       "      <th>4423</th>\n",
       "      <td>2020-10-23</td>\n",
       "      <td>47.651710</td>\n",
       "      <td>-122.692750</td>\n",
       "      <td>-1</td>\n",
       "    </tr>\n",
       "    <tr>\n",
       "      <th>4424</th>\n",
       "      <td>2020-10-19</td>\n",
       "      <td>47.690120</td>\n",
       "      <td>-122.509780</td>\n",
       "      <td>-1</td>\n",
       "    </tr>\n",
       "    <tr>\n",
       "      <th>4425</th>\n",
       "      <td>2020-08-04</td>\n",
       "      <td>45.968985</td>\n",
       "      <td>-122.386562</td>\n",
       "      <td>-1</td>\n",
       "    </tr>\n",
       "  </tbody>\n",
       "</table>\n",
       "<p>4426 rows × 4 columns</p>\n",
       "</div>"
      ],
      "text/plain": [
       "           date        lat         lon  class\n",
       "0    2019-12-08  48.980994 -122.688503      1\n",
       "1    2019-10-30  48.971949 -122.700941      1\n",
       "2    2020-01-15  48.939200 -122.661300     -1\n",
       "3    2019-09-19  49.149394 -123.943134      1\n",
       "4    2019-08-31  48.723779 -122.354431     -1\n",
       "...         ...        ...         ...    ...\n",
       "4421 2020-10-02  47.145673 -122.566734     -1\n",
       "4422 2020-08-29  48.997938 -122.729890     -1\n",
       "4423 2020-10-23  47.651710 -122.692750     -1\n",
       "4424 2020-10-19  47.690120 -122.509780     -1\n",
       "4425 2020-08-04  45.968985 -122.386562     -1\n",
       "\n",
       "[4426 rows x 4 columns]"
      ]
     },
     "execution_count": 13,
     "metadata": {},
     "output_type": "execute_result"
    }
   ],
   "source": [
    "data = data[data.date != 0]\n",
    "data = data[data.lat != 0]\n",
    "data = data[data.lon != 0]\n",
    "data"
   ]
  },
  {
   "cell_type": "code",
   "execution_count": 14,
   "metadata": {},
   "outputs": [],
   "source": [
    "# change datetime type into integers\n",
    "from datetime import datetime\n",
    "data['date'] = data['date'].astype(str)"
   ]
  },
  {
   "cell_type": "code",
   "execution_count": 15,
   "metadata": {},
   "outputs": [
    {
     "data": {
      "text/plain": [
       "str"
      ]
     },
     "execution_count": 15,
     "metadata": {},
     "output_type": "execute_result"
    }
   ],
   "source": [
    "type(data.date[3])"
   ]
  },
  {
   "cell_type": "code",
   "execution_count": 16,
   "metadata": {},
   "outputs": [],
   "source": [
    "data['date'] = pd.to_datetime(data['date'], format='%Y-%m-%d')"
   ]
  },
  {
   "cell_type": "code",
   "execution_count": 18,
   "metadata": {},
   "outputs": [
    {
     "data": {
      "text/html": [
       "<div>\n",
       "<style scoped>\n",
       "    .dataframe tbody tr th:only-of-type {\n",
       "        vertical-align: middle;\n",
       "    }\n",
       "\n",
       "    .dataframe tbody tr th {\n",
       "        vertical-align: top;\n",
       "    }\n",
       "\n",
       "    .dataframe thead th {\n",
       "        text-align: right;\n",
       "    }\n",
       "</style>\n",
       "<table border=\"1\" class=\"dataframe\">\n",
       "  <thead>\n",
       "    <tr style=\"text-align: right;\">\n",
       "      <th></th>\n",
       "      <th>date</th>\n",
       "      <th>lat</th>\n",
       "      <th>lon</th>\n",
       "      <th>class</th>\n",
       "    </tr>\n",
       "  </thead>\n",
       "  <tbody>\n",
       "    <tr>\n",
       "      <th>0</th>\n",
       "      <td>2019-12-08</td>\n",
       "      <td>48.980994</td>\n",
       "      <td>-122.688503</td>\n",
       "      <td>1</td>\n",
       "    </tr>\n",
       "    <tr>\n",
       "      <th>1</th>\n",
       "      <td>2019-10-30</td>\n",
       "      <td>48.971949</td>\n",
       "      <td>-122.700941</td>\n",
       "      <td>1</td>\n",
       "    </tr>\n",
       "    <tr>\n",
       "      <th>2</th>\n",
       "      <td>2020-01-15</td>\n",
       "      <td>48.939200</td>\n",
       "      <td>-122.661300</td>\n",
       "      <td>-1</td>\n",
       "    </tr>\n",
       "    <tr>\n",
       "      <th>3</th>\n",
       "      <td>2019-09-19</td>\n",
       "      <td>49.149394</td>\n",
       "      <td>-123.943134</td>\n",
       "      <td>1</td>\n",
       "    </tr>\n",
       "    <tr>\n",
       "      <th>4</th>\n",
       "      <td>2019-08-31</td>\n",
       "      <td>48.723779</td>\n",
       "      <td>-122.354431</td>\n",
       "      <td>-1</td>\n",
       "    </tr>\n",
       "  </tbody>\n",
       "</table>\n",
       "</div>"
      ],
      "text/plain": [
       "        date        lat         lon  class\n",
       "0 2019-12-08  48.980994 -122.688503      1\n",
       "1 2019-10-30  48.971949 -122.700941      1\n",
       "2 2020-01-15  48.939200 -122.661300     -1\n",
       "3 2019-09-19  49.149394 -123.943134      1\n",
       "4 2019-08-31  48.723779 -122.354431     -1"
      ]
     },
     "execution_count": 18,
     "metadata": {},
     "output_type": "execute_result"
    }
   ],
   "source": [
    "# Manually delete case with the abnormal date causing error, already done\n",
    "data['date'] = pd.to_datetime(data['date'], format='%Y-%m-%d')\n",
    "data.head()"
   ]
  },
  {
   "cell_type": "code",
   "execution_count": 19,
   "metadata": {},
   "outputs": [
    {
     "data": {
      "text/plain": [
       "pandas._libs.tslibs.timestamps.Timestamp"
      ]
     },
     "execution_count": 19,
     "metadata": {},
     "output_type": "execute_result"
    }
   ],
   "source": [
    "type(data.date[3])"
   ]
  },
  {
   "cell_type": "code",
   "execution_count": 20,
   "metadata": {},
   "outputs": [],
   "source": [
    "data['date'] = data['date'].apply(datetime.toordinal)"
   ]
  },
  {
   "cell_type": "code",
   "execution_count": 21,
   "metadata": {
    "scrolled": true
   },
   "outputs": [
    {
     "data": {
      "text/html": [
       "<div>\n",
       "<style scoped>\n",
       "    .dataframe tbody tr th:only-of-type {\n",
       "        vertical-align: middle;\n",
       "    }\n",
       "\n",
       "    .dataframe tbody tr th {\n",
       "        vertical-align: top;\n",
       "    }\n",
       "\n",
       "    .dataframe thead th {\n",
       "        text-align: right;\n",
       "    }\n",
       "</style>\n",
       "<table border=\"1\" class=\"dataframe\">\n",
       "  <thead>\n",
       "    <tr style=\"text-align: right;\">\n",
       "      <th></th>\n",
       "      <th>date</th>\n",
       "      <th>lat</th>\n",
       "      <th>lon</th>\n",
       "      <th>class</th>\n",
       "    </tr>\n",
       "  </thead>\n",
       "  <tbody>\n",
       "    <tr>\n",
       "      <th>0</th>\n",
       "      <td>737401</td>\n",
       "      <td>48.980994</td>\n",
       "      <td>-122.688503</td>\n",
       "      <td>1</td>\n",
       "    </tr>\n",
       "    <tr>\n",
       "      <th>1</th>\n",
       "      <td>737362</td>\n",
       "      <td>48.971949</td>\n",
       "      <td>-122.700941</td>\n",
       "      <td>1</td>\n",
       "    </tr>\n",
       "    <tr>\n",
       "      <th>2</th>\n",
       "      <td>737439</td>\n",
       "      <td>48.939200</td>\n",
       "      <td>-122.661300</td>\n",
       "      <td>-1</td>\n",
       "    </tr>\n",
       "    <tr>\n",
       "      <th>3</th>\n",
       "      <td>737321</td>\n",
       "      <td>49.149394</td>\n",
       "      <td>-123.943134</td>\n",
       "      <td>1</td>\n",
       "    </tr>\n",
       "    <tr>\n",
       "      <th>4</th>\n",
       "      <td>737302</td>\n",
       "      <td>48.723779</td>\n",
       "      <td>-122.354431</td>\n",
       "      <td>-1</td>\n",
       "    </tr>\n",
       "    <tr>\n",
       "      <th>...</th>\n",
       "      <td>...</td>\n",
       "      <td>...</td>\n",
       "      <td>...</td>\n",
       "      <td>...</td>\n",
       "    </tr>\n",
       "    <tr>\n",
       "      <th>4421</th>\n",
       "      <td>737700</td>\n",
       "      <td>47.145673</td>\n",
       "      <td>-122.566734</td>\n",
       "      <td>-1</td>\n",
       "    </tr>\n",
       "    <tr>\n",
       "      <th>4422</th>\n",
       "      <td>737666</td>\n",
       "      <td>48.997938</td>\n",
       "      <td>-122.729890</td>\n",
       "      <td>-1</td>\n",
       "    </tr>\n",
       "    <tr>\n",
       "      <th>4423</th>\n",
       "      <td>737721</td>\n",
       "      <td>47.651710</td>\n",
       "      <td>-122.692750</td>\n",
       "      <td>-1</td>\n",
       "    </tr>\n",
       "    <tr>\n",
       "      <th>4424</th>\n",
       "      <td>737717</td>\n",
       "      <td>47.690120</td>\n",
       "      <td>-122.509780</td>\n",
       "      <td>-1</td>\n",
       "    </tr>\n",
       "    <tr>\n",
       "      <th>4425</th>\n",
       "      <td>737641</td>\n",
       "      <td>45.968985</td>\n",
       "      <td>-122.386562</td>\n",
       "      <td>-1</td>\n",
       "    </tr>\n",
       "  </tbody>\n",
       "</table>\n",
       "<p>4426 rows × 4 columns</p>\n",
       "</div>"
      ],
      "text/plain": [
       "        date        lat         lon  class\n",
       "0     737401  48.980994 -122.688503      1\n",
       "1     737362  48.971949 -122.700941      1\n",
       "2     737439  48.939200 -122.661300     -1\n",
       "3     737321  49.149394 -123.943134      1\n",
       "4     737302  48.723779 -122.354431     -1\n",
       "...      ...        ...         ...    ...\n",
       "4421  737700  47.145673 -122.566734     -1\n",
       "4422  737666  48.997938 -122.729890     -1\n",
       "4423  737721  47.651710 -122.692750     -1\n",
       "4424  737717  47.690120 -122.509780     -1\n",
       "4425  737641  45.968985 -122.386562     -1\n",
       "\n",
       "[4426 rows x 4 columns]"
      ]
     },
     "execution_count": 21,
     "metadata": {},
     "output_type": "execute_result"
    }
   ],
   "source": [
    "data"
   ]
  },
  {
   "cell_type": "code",
   "execution_count": 22,
   "metadata": {},
   "outputs": [
    {
     "data": {
      "text/plain": [
       "numpy.int64"
      ]
     },
     "execution_count": 22,
     "metadata": {},
     "output_type": "execute_result"
    }
   ],
   "source": [
    "type(data.date[3])"
   ]
  },
  {
   "cell_type": "markdown",
   "metadata": {},
   "source": [
    "# Step 1: K-Means clustering"
   ]
  },
  {
   "cell_type": "code",
   "execution_count": 33,
   "metadata": {},
   "outputs": [
    {
     "data": {
      "text/plain": [
       "array([[-0.56829414,  1.88587175, -0.61612345,  3.01907901],\n",
       "       [-0.68455867,  1.87331023, -0.6246394 ,  3.01907901],\n",
       "       [-0.45501075,  1.82782908, -0.59749833, -0.93664737],\n",
       "       ...,\n",
       "       [ 0.38567125,  0.03978892, -0.61903125, -0.93664737],\n",
       "       [ 0.37374668,  0.09313195, -0.4937569 , -0.93664737],\n",
       "       [ 0.1471799 , -2.29714565, -0.40939304, -0.93664737]])"
      ]
     },
     "execution_count": 33,
     "metadata": {},
     "output_type": "execute_result"
    }
   ],
   "source": [
    "# preprocess data for clustering\n",
    "\n",
    "X = data.drop(['class'], axis = 1)\n",
    "X = StandardScaler().fit_transform(data)\n",
    "X"
   ]
  },
  {
   "cell_type": "code",
   "execution_count": 34,
   "metadata": {},
   "outputs": [],
   "source": [
    "# use PCA (principal component analysis) to reduce dimension to 2 to simply visualize the data\n",
    "\n",
    "pca_model = PCA(n_components=2)\n",
    "X_reduced = pca_model.fit_transform(X)"
   ]
  },
  {
   "cell_type": "code",
   "execution_count": 35,
   "metadata": {},
   "outputs": [],
   "source": [
    "# Here we use closure to store the related variables\n",
    "\n",
    "def create_plot_kmeans_digits(_X, _y, _n_classes):\n",
    "    X, y = _X, _y\n",
    "    n_classes = _n_classes\n",
    "    colors = np.array([cm.tab20(i) for i in range(100)])\n",
    "\n",
    "# set K randomly for initialisation\n",
    "\n",
    "    def plot_kmeans_digits(n_clusters=10):\n",
    "        expand=1\n",
    "        kmeans = KMeans(init='k-means++', n_clusters=n_clusters, n_init=10, random_state=520, max_iter=1000, n_jobs=-1)\n",
    "        kmeans.fit(X)\n",
    "        y_predicted = kmeans.predict(X)\n",
    "        fig, (ax1, ax2) = plt.subplots(1, 2)\n",
    "        ax1.plot((np.min(X_reduced[:, 0])-expand, np.max(X_reduced[:, 0])+expand), \n",
    "                 (np.min(X_reduced[:, 1])-expand, np.max(X_reduced[:, 1])+expand),\n",
    "                 alpha=0.0)\n",
    "        xlim = ax1.get_xlim()\n",
    "        ylim = ax1.get_ylim()\n",
    "        ax1.scatter(X_reduced[:, 0], X_reduced[:, 1], c=colors[y_predicted])\n",
    "        ax1.set_xlabel('pca #1')\n",
    "        ax1.set_ylabel('pca #2') \n",
    "        centers = np.array(kmeans.cluster_centers_)\n",
    "        ax1.scatter(centers[:, 0], centers[:, 1], marker=\"x\", color='k', s=64)\n",
    "        matrix = np.zeros((n_clusters, n_classes))\n",
    "        for cluster in range(n_clusters):\n",
    "            for cl in range(n_classes):\n",
    "                matrix[cluster, cl] = np.sum(y[y_predicted == cluster]==cl)\n",
    "        sns.heatmap(matrix, annot=True, fmt='g', ax=ax2)\n",
    "        ax2.set_xlabel('Class')\n",
    "        ax2.set_ylabel('Cluster')\n",
    "        print('Inertia:', kmeans.inertia_)\n",
    "        plt.show()\n",
    "    return plot_kmeans_digits"
   ]
  },
  {
   "cell_type": "code",
   "execution_count": 65,
   "metadata": {},
   "outputs": [],
   "source": [
    "# To increase quality of figures\n",
    "plt.rcParams[\"figure.figsize\"] = (25, 10)"
   ]
  },
  {
   "cell_type": "code",
   "execution_count": 66,
   "metadata": {},
   "outputs": [
    {
     "data": {
      "application/vnd.jupyter.widget-view+json": {
       "model_id": "7f01a80fe0cf472cb03c3a0581bf95d4",
       "version_major": 2,
       "version_minor": 0
      },
      "text/plain": [
       "interactive(children=(IntSlider(value=1, continuous_update=False, description='N clusters:', max=20, min=1), O…"
      ]
     },
     "metadata": {},
     "output_type": "display_data"
    },
    {
     "data": {
      "text/plain": [
       "<function __main__.create_plot_kmeans_digits.<locals>.plot_kmeans_digits(n_clusters=10)>"
      ]
     },
     "execution_count": 66,
     "metadata": {},
     "output_type": "execute_result"
    }
   ],
   "source": [
    "n_clusters_widget = widgets.IntSlider(\n",
    "    value=1,\n",
    "    min=1,\n",
    "    max=20,\n",
    "    step=1,\n",
    "    continuous_update=False,\n",
    "    description='N clusters:')\n",
    "interact(create_plot_kmeans_digits(X_reduced, y_predicted, 10),\n",
    "         n_clusters=n_clusters_widget)"
   ]
  },
  {
   "cell_type": "code",
   "execution_count": 45,
   "metadata": {},
   "outputs": [],
   "source": [
    "# If class labels are not available, within-cluster sum of squares (inertia) can be used\n",
    "# inertia: how far away the points within a cluster are，the smaller the better\n",
    "\n",
    "n_clusters = range(1, 30)\n",
    "inertia = np.zeros(len(n_clusters))\n",
    "for i, clusters in enumerate(n_clusters):\n",
    "    kmeans = KMeans(init='k-means++', n_clusters=clusters, n_init=10, random_state=520, max_iter=1000, n_jobs=-1)\n",
    "    kmeans.fit(X)\n",
    "    inertia[i] = kmeans.inertia_\n",
    "    y_predicted = kmeans.predict(X)"
   ]
  },
  {
   "cell_type": "code",
   "execution_count": 46,
   "metadata": {},
   "outputs": [
    {
     "data": {
      "image/png": "[encoded data removed]",
      "text/plain": [
       "<Figure size 432x288 with 1 Axes>"
      ]
     },
     "metadata": {
      "needs_background": "light"
     },
     "output_type": "display_data"
    }
   ],
   "source": [
    "plt.plot(n_clusters, inertia)\n",
    "plt.title('Kmeans: inertia')\n",
    "plt.xlabel('# of clusters')\n",
    "plt.ylabel('Inertia')\n",
    "plt.show()"
   ]
  },
  {
   "cell_type": "code",
   "execution_count": 47,
   "metadata": {},
   "outputs": [
    {
     "name": "stdout",
     "output_type": "stream",
     "text": [
      "0.49094230020699553\n",
      "2700.55300151564\n"
     ]
    }
   ],
   "source": [
    "# so the number of clusters choosen can be 5 to 10\n",
    "# try for 10\n",
    "\n",
    "k_means = KMeans(n_clusters=10)\n",
    "\n",
    "#Run the clustering algorithm\n",
    "model = k_means.fit(X)\n",
    "model\n",
    "\n",
    "#Generate cluster predictions and store in y_hat\n",
    "y_hat = k_means.predict(X)\n",
    "\n",
    "labels = k_means.labels_\n",
    "\n",
    "# Calculating the silhouette coefficient\n",
    "print(metrics.silhouette_score(X, labels, metric = 'euclidean'))\n",
    "\n",
    "# CH score\n",
    "print(metrics.calinski_harabasz_score(X, labels))"
   ]
  },
  {
   "cell_type": "code",
   "execution_count": 48,
   "metadata": {},
   "outputs": [
    {
     "name": "stdout",
     "output_type": "stream",
     "text": [
      "0.4879590790075683\n",
      "2464.320770822012\n"
     ]
    }
   ],
   "source": [
    "# try for other number of clusters (=8)\n",
    "k_means_8 = KMeans(n_clusters=8)\n",
    "model = k_means_8.fit(X)\n",
    "y_hat_8 = k_means_8.predict(X)\n",
    "labels_8 = k_means_8.labels_\n",
    "print(metrics.silhouette_score(X, labels_8, metric = 'euclidean'))\n",
    "print(metrics.calinski_harabasz_score(X, labels_8))"
   ]
  },
  {
   "cell_type": "code",
   "execution_count": 49,
   "metadata": {},
   "outputs": [
    {
     "name": "stdout",
     "output_type": "stream",
     "text": [
      "0.4796933072500037\n",
      "1947.3229935272184\n"
     ]
    }
   ],
   "source": [
    "# try for other number of clusters (=5)\n",
    "k_means_5 = KMeans(n_clusters=5)\n",
    "model = k_means_5.fit(X)\n",
    "y_hat_5 = k_means_5.predict(X)\n",
    "labels_5 = k_means_5.labels_\n",
    "print(metrics.silhouette_score(X, labels_5, metric = 'euclidean'))\n",
    "print(metrics.calinski_harabasz_score(X, labels_5))"
   ]
  },
  {
   "cell_type": "code",
   "execution_count": 50,
   "metadata": {},
   "outputs": [
    {
     "name": "stdout",
     "output_type": "stream",
     "text": [
      "0.4669041010254173\n",
      "2939.547783240921\n"
     ]
    }
   ],
   "source": [
    "# try for other number of clusters (=15)\n",
    "k_means_15 = KMeans(n_clusters=15)\n",
    "model = k_means_15.fit(X)\n",
    "y_hat_15 = k_means_15.predict(X)\n",
    "labels_15 = k_means_15.labels_\n",
    "print(metrics.silhouette_score(X, labels_15, metric = 'euclidean'))\n",
    "print(metrics.calinski_harabasz_score(X, labels_15))"
   ]
  },
  {
   "cell_type": "code",
   "execution_count": 51,
   "metadata": {},
   "outputs": [
    {
     "data": {
      "text/html": [
       "<div>\n",
       "<style scoped>\n",
       "    .dataframe tbody tr th:only-of-type {\n",
       "        vertical-align: middle;\n",
       "    }\n",
       "\n",
       "    .dataframe tbody tr th {\n",
       "        vertical-align: top;\n",
       "    }\n",
       "\n",
       "    .dataframe thead th {\n",
       "        text-align: right;\n",
       "    }\n",
       "</style>\n",
       "<table border=\"1\" class=\"dataframe\">\n",
       "  <thead>\n",
       "    <tr style=\"text-align: right;\">\n",
       "      <th></th>\n",
       "      <th>date</th>\n",
       "      <th>lat</th>\n",
       "      <th>lon</th>\n",
       "      <th>class</th>\n",
       "      <th>KmeansCluster</th>\n",
       "    </tr>\n",
       "  </thead>\n",
       "  <tbody>\n",
       "    <tr>\n",
       "      <th>0</th>\n",
       "      <td>737401</td>\n",
       "      <td>48.980994</td>\n",
       "      <td>-122.688503</td>\n",
       "      <td>1</td>\n",
       "      <td>5</td>\n",
       "    </tr>\n",
       "    <tr>\n",
       "      <th>1</th>\n",
       "      <td>737362</td>\n",
       "      <td>48.971949</td>\n",
       "      <td>-122.700941</td>\n",
       "      <td>1</td>\n",
       "      <td>5</td>\n",
       "    </tr>\n",
       "    <tr>\n",
       "      <th>2</th>\n",
       "      <td>737439</td>\n",
       "      <td>48.939200</td>\n",
       "      <td>-122.661300</td>\n",
       "      <td>-1</td>\n",
       "      <td>2</td>\n",
       "    </tr>\n",
       "    <tr>\n",
       "      <th>3</th>\n",
       "      <td>737321</td>\n",
       "      <td>49.149394</td>\n",
       "      <td>-123.943134</td>\n",
       "      <td>1</td>\n",
       "      <td>5</td>\n",
       "    </tr>\n",
       "    <tr>\n",
       "      <th>4</th>\n",
       "      <td>737302</td>\n",
       "      <td>48.723779</td>\n",
       "      <td>-122.354431</td>\n",
       "      <td>-1</td>\n",
       "      <td>2</td>\n",
       "    </tr>\n",
       "  </tbody>\n",
       "</table>\n",
       "</div>"
      ],
      "text/plain": [
       "     date        lat         lon  class  KmeansCluster\n",
       "0  737401  48.980994 -122.688503      1              5\n",
       "1  737362  48.971949 -122.700941      1              5\n",
       "2  737439  48.939200 -122.661300     -1              2\n",
       "3  737321  49.149394 -123.943134      1              5\n",
       "4  737302  48.723779 -122.354431     -1              2"
      ]
     },
     "execution_count": 51,
     "metadata": {},
     "output_type": "execute_result"
    }
   ],
   "source": [
    "# finally choose n_clusters = 10, add label to the original dataframe\n",
    "\n",
    "data['KmeansCluster'] = labels\n",
    "data.head()"
   ]
  },
  {
   "cell_type": "code",
   "execution_count": 52,
   "metadata": {},
   "outputs": [],
   "source": [
    "data.to_csv('../clusteredData.csv')"
   ]
  },
  {
   "cell_type": "markdown",
   "metadata": {},
   "source": [
    "# Step 2 : Class_Weighted SVM - RBF"
   ]
  },
  {
   "cell_type": "code",
   "execution_count": null,
   "metadata": {},
   "outputs": [],
   "source": [
    "# drop the class = -1 points "
   ]
  },
  {
   "cell_type": "code",
   "execution_count": 53,
   "metadata": {},
   "outputs": [],
   "source": [
    "# find classifer for each cluster\n",
    "# store each cluster into sub dataset (dataframe)\n",
    "sub0 = data.loc[data['KmeansCluster'] == 0]\n",
    "sub1 = data.loc[data['KmeansCluster'] == 1]\n",
    "sub2 = data.loc[data['KmeansCluster'] == 2]\n",
    "sub3 = data.loc[data['KmeansCluster'] == 3]\n",
    "sub4 = data.loc[data['KmeansCluster'] == 4]\n",
    "sub5 = data.loc[data['KmeansCluster'] == 5]\n",
    "sub6 = data.loc[data['KmeansCluster'] == 6]\n",
    "sub7 = data.loc[data['KmeansCluster'] == 7]\n",
    "sub8 = data.loc[data['KmeansCluster'] == 8]\n",
    "sub9 = data.loc[data['KmeansCluster'] == 9]"
   ]
  },
  {
   "cell_type": "code",
   "execution_count": 134,
   "metadata": {},
   "outputs": [],
   "source": [
    "# split to X and y\n",
    "# X is all the features' data, y is all the class data\n",
    "vals = data.values\n",
    "X = vals[:, :-1]\n",
    "y = vals[:, -1]"
   ]
  },
  {
   "cell_type": "code",
   "execution_count": 139,
   "metadata": {},
   "outputs": [],
   "source": [
    "# split the data into train and test set（10%）randomly\n",
    "# scale the data before using SVM\n",
    "\n",
    "X_train, X_test, y_train, y_test = train_test_split(X, y, test_size=0.1, random_state=500)\n",
    "\n",
    "create_scaler = create_scaler_minmax\n",
    "scaler = create_scaler()\n",
    "scaler.fit(X_train)\n",
    "X_train = scaler.transform(X_train)\n",
    "X_test = scaler.transform(X_test)"
   ]
  },
  {
   "cell_type": "code",
   "execution_count": 157,
   "metadata": {},
   "outputs": [
    {
     "name": "stdout",
     "output_type": "stream",
     "text": [
      "Optimal parameters: {'gamma': 1000, 'C': 10}\n",
      "Accuracy: 1.0\n",
      "              precision    recall  f1-score   support\n",
      "\n",
      "         0.0       1.00      1.00      1.00       209\n",
      "\n",
      "    accuracy                           1.00       209\n",
      "   macro avg       1.00      1.00      1.00       209\n",
      "weighted avg       1.00      1.00      1.00       209\n",
      "\n"
     ]
    }
   ],
   "source": [
    "# Hyperparameter search (rbf)\n",
    "# apply cross validation\n",
    "\n",
    "model = RandomizedSearchCV(SVC(kernel='rbf', random_state=520),\n",
    "                           cv=5,\n",
    "                           n_iter=40,\n",
    "                           n_jobs=-1,\n",
    "                           iid=False,\n",
    "                           param_distributions={\n",
    "                               'C': [10**x for x in range(-3, 4)], \n",
    "                               'gamma': [10**x for x in range(-3, 4)]\n",
    "                           })\n",
    "\n",
    "# model = GridSearchCV(SVC(kernel='rbf', random_state=520),\n",
    "#                          cv=5,\n",
    "#                          n_jobs=-1,\n",
    "#                          iid=False,\n",
    "#                          param_grid={\n",
    "#                              'C': [10**x for x in range(-3, 4)], \n",
    "#                              'gamma': [10**x for x in range(-3, 4)]\n",
    "#                          })\n",
    "\n",
    "model.fit(X_train, y_train)\n",
    "print('Optimal parameters:', model.best_params_)\n",
    "\n",
    "y_test_hat = model.predict(X_test)\n",
    "print('Accuracy:', metrics.accuracy_score(y_test, y_test_hat))\n",
    "\n",
    "print(metrics.classification_report(y_test, y_test_hat))"
   ]
  },
  {
   "cell_type": "code",
   "execution_count": 154,
   "metadata": {},
   "outputs": [],
   "source": [
    "# Support Vector Machines Classifier (RBF)\n",
    "# using weighted classes, sklearn automatically generates the weight\n",
    "\n",
    "def create_plot_svm_classification_rbf(_X, _y):\n",
    "    X, y = _X, _y\n",
    "    def plot_svc_rbf(C=1, gamma=1, expand=0, intensity=0.1):\n",
    "        clf = SVC(kernel='rbf', C=C, gamma=gamma, class_weight='balanced')\n",
    "        clf.fit(X, y)\n",
    "        fig, ax = plt.subplots()\n",
    "        ax.plot((np.min(X[:, 0])-expand, np.max(X[:, 0])+expand), (np.min(X[:, 1])-expand, np.max(X[:, 1])+expand), alpha=0.0)\n",
    "        xlim = ax.get_xlim()\n",
    "        ylim = ax.get_ylim()\n",
    "        xx = np.linspace(xlim[0], xlim[1], 400)\n",
    "        yy = np.linspace(ylim[0], ylim[1], 200)\n",
    "        YY, XX = np.meshgrid(yy, xx)\n",
    "        xy = np.vstack([XX.ravel(), YY.ravel()]).T\n",
    "        Z = clf.decision_function(xy).reshape(XX.shape)\n",
    "        v = max(-np.min(Z), np.max(Z))\n",
    "        cf = ax.contourf(XX, YY, Z, 100, cmap='coolwarm', norm = mpl.colors.Normalize(vmin=-v, vmax=v), alpha=intensity)\n",
    "        ax.scatter(X[:, 0], X[:, 1], c=y, s=30, cmap=plt.cm.bwr)\n",
    "        ax.contour(XX, YY, Z, colors='k', levels=[-1, 0, 1], alpha=0.8,\n",
    "                   linestyles=['--', '-', '--'], linewidths=[2, 5, 2])\n",
    "        ax.scatter(clf.support_vectors_[:, 0], clf.support_vectors_[:, 1], s=100,\n",
    "                   linewidth=1, facecolors='none', edgecolors='k')\n",
    "        plt.xlabel('Sepal width')\n",
    "        plt.ylabel('Petal length')\n",
    "        plt.title('Support Vector Machines Classifier: C=%s, Gamma=%s.' % (str(C), str(gamma)))\n",
    "        plt.show()\n",
    "    return plot_svc_rbf"
   ]
  },
  {
   "cell_type": "code",
   "execution_count": 155,
   "metadata": {},
   "outputs": [
    {
     "data": {
      "application/vnd.jupyter.widget-view+json": {
       "model_id": "c78b864df81d4fd3bee6bfe77c7486d0",
       "version_major": 2,
       "version_minor": 0
      },
      "text/plain": [
       "interactive(children=(FloatLogSlider(value=10.0, continuous_update=False, description='C:', max=3.0, min=-4.0,…"
      ]
     },
     "metadata": {},
     "output_type": "display_data"
    },
    {
     "data": {
      "text/plain": [
       "<function __main__.create_plot_svm_classification_rbf.<locals>.plot_svc_rbf(C=1, gamma=1, expand=0, intensity=0.1)>"
      ]
     },
     "execution_count": 155,
     "metadata": {},
     "output_type": "execute_result"
    },
    {
     "data": {
      "image/png": "[encoded data removed]",
      "text/plain": [
       "<Figure size 432x288 with 1 Axes>"
      ]
     },
     "metadata": {
      "needs_background": "light"
     },
     "output_type": "display_data"
    }
   ],
   "source": [
    "С_widget = widgets.FloatLogSlider(\n",
    "    value=10,\n",
    "    base=10,\n",
    "    min=-4,\n",
    "    max=3,\n",
    "    step=0.5,\n",
    "    continuous_update=False,\n",
    "    description='C:')\n",
    "gamma_widget = widgets.FloatLogSlider(\n",
    "    value=10*math.sqrt(10),\n",
    "    base=10,\n",
    "    min=-4,\n",
    "    max=3,\n",
    "    step=0.5,\n",
    "    continuous_update=False,\n",
    "    description='gamma:')\n",
    "expand_widget = widgets.FloatSlider(\n",
    "    value=0.2,\n",
    "    min=0,\n",
    "    max=10,\n",
    "    step=0.1,\n",
    "    continuous_update=False,\n",
    "    description='expand:')\n",
    "intensity_widget = widgets.FloatSlider(\n",
    "    value=0.7,\n",
    "    min=0.1,\n",
    "    max=0.9,\n",
    "    step=0.1,\n",
    "    continuous_update=False,\n",
    "    description='intensity:')\n",
    "interact(create_plot_svm_classification_rbf(X, y), C=С_widget, gamma=gamma_widget, expand=expand_widget, intensity=intensity_widget)"
   ]
  },
  {
   "cell_type": "code",
   "execution_count": 156,
   "metadata": {},
   "outputs": [
    {
     "data": {
      "image/png": "[encoded data removed]",
      "text/plain": [
       "<Figure size 432x288 with 2 Axes>"
      ]
     },
     "metadata": {
      "needs_background": "light"
     },
     "output_type": "display_data"
    }
   ],
   "source": [
    "def plot_param_search_rbf(X_train, y_train, X_test, y_test, Cs, gammas):\n",
    "    def compute_accuracy(C, gamma):\n",
    "        clf = SVC(kernel='rbf', C=C, gamma=gamma)\n",
    "        clf.fit(X_train, y_train)\n",
    "        return clf.score(X_test, y_test)\n",
    "\n",
    "    Cs = np.power(10, np.linspace(-3, 4, num=20, endpoint=True))\n",
    "    gammas = np.power(10, np.linspace(-3, 4, num=20, endpoint=True))\n",
    "\n",
    "    C_mesh, gamma_mesh = np.meshgrid(Cs, gammas)\n",
    "    Z = np.zeros(C_mesh.shape)\n",
    "    for i in range(len(gammas)):\n",
    "        for j in range(len(Cs)):\n",
    "            Z[i, j] = compute_accuracy(C_mesh[i, j], gamma_mesh[i, j])\n",
    "\n",
    "    fig, ax = plt.subplots()\n",
    "    plt.contourf(gamma_mesh, C_mesh, Z, 50, cmap='gray')\n",
    "    plt.colorbar()\n",
    "    ax.set_xscale('log')\n",
    "    ax.set_yscale('log')\n",
    "    ax.set_xlabel('Gamma')\n",
    "    ax.set_ylabel('C')\n",
    "    plt.show()\n",
    "\n",
    "Cs = np.power(10, np.linspace(-3, 4, num=20, endpoint=True))\n",
    "gammas = np.power(10, np.linspace(-3, 4, num=20, endpoint=True))\n",
    "plot_param_search_rbf(X_train, y_train, X_test, y_test, Cs, gammas)"
   ]
  },
  {
   "cell_type": "markdown",
   "metadata": {},
   "source": [
    "***Reference***\n",
    "1. imbalance data \n",
    "\n",
    "https://towardsdatascience.com/how-to-deal-with-imbalanced-data-34ab7db9b100\n",
    "\n",
    "should upsample the data (<10k), check performance matrics\n",
    "\n",
    "https://stats.stackexchange.com/questions/122095/does-support-vector-machine-handle-imbalanced-dataset\n",
    "\n",
    "https://stats.stackexchange.com/questions/94295/svm-for-unbalanced-data\n",
    "\n",
    "class weighted SVM\n",
    "\n",
    "https://scikit-learn.org/stable/auto_examples/svm/plot_separating_hyperplane_unbalanced.html\n",
    "\n",
    "   \n",
    "2. change datetime type into integers \n",
    "\n",
    "https://www.geeksforgeeks.org/python-pandas-timestamp-toordinal/\n",
    "\n",
    "3. supervised clustering \n",
    "\n",
    "https://stats.stackexchange.com/questions/37587/supervised-clustering-or-classification\n",
    "\n",
    "4. kmeans normalization\n",
    "\n",
    "https://datascience.stackexchange.com/questions/6715/is-it-necessary-to-standardize-your-data-before-clustering\n",
    "\n",
    "5. find best k for kmeans\n",
    "\n",
    "https://medium.com/analytics-vidhya/how-to-determine-the-optimal-k-for-k-means-708505d204eb\n",
    "\n",
    "6."
   ]
  },
  {
   "cell_type": "code",
   "execution_count": null,
   "metadata": {},
   "outputs": [],
   "source": [
    "# # time series prediction\n",
    "# from statsmodels.tsa.ar_model import AR # train autoregression\n",
    "# model = AR(train)\n",
    "# model_fit = model.fit()\n",
    "# window = model_fit.k_ar\n",
    "# coef = model_fit.params\n",
    "# # walk forward over time steps in test\n",
    "# history = train[len(train)-window:]\n",
    "# history = [history[i] for i in range(len(history))] predictions = list()\n",
    "# for t in range(len(test)):\n",
    "# length = len(history)\n",
    "# lag = [history[i] for i in range(length-window,length)] yhat = coef[0]\n",
    "# for d in range(window):\n",
    "#         yhat += coef[d+1] * lag[window-d-1]\n",
    "#     predictions.append(yhat)\n",
    "# error = mean_squared_error(test, predictions) print(’Test MSE: %.3f’ % error)\n",
    "# print(’Test RMSE: %.3f’ % math.sqrt(error))"
   ]
  }
 ],
 "metadata": {
  "kernelspec": {
   "display_name": "Python 3",
   "language": "python",
   "name": "python3"
  },
  "language_info": {
   "codemirror_mode": {
    "name": "ipython",
    "version": 3
   },
   "file_extension": ".py",
   "mimetype": "text/x-python",
   "name": "python",
   "nbconvert_exporter": "python",
   "pygments_lexer": "ipython3",
   "version": "3.7.1"
  }
 },
 "nbformat": 4,
 "nbformat_minor": 2
}
