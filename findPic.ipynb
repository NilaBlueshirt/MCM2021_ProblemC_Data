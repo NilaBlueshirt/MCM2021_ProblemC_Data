{
 "cells": [
  {
   "cell_type": "code",
   "execution_count": 2,
   "metadata": {},
   "outputs": [],
   "source": [
    "import pandas as pd"
   ]
  },
  {
   "cell_type": "code",
   "execution_count": 3,
   "metadata": {},
   "outputs": [],
   "source": [
    "data = pd.read_excel(\"data.xlsx\")\n",
    "image = pd.read_excel(\"image.xlsx\")"
   ]
  },
  {
   "cell_type": "code",
   "execution_count": 4,
   "metadata": {},
   "outputs": [],
   "source": [
    "posID = data.loc[data['Lab Status'] == 'Positive ID', 'GlobalID']\n",
    "negaID = data.loc[data['Lab Status'] == 'Negative ID', 'GlobalID']\n",
    "unverID = data.loc[data['Lab Status'] == 'Unverified', 'GlobalID']\n",
    "unpID = data.loc[data['Lab Status'] == 'Unprocessed', 'GlobalID']"
   ]
  },
  {
   "cell_type": "code",
   "execution_count": 5,
   "metadata": {},
   "outputs": [
    {
     "data": {
      "text/plain": [
       "0       {5AC8034E-5B46-4294-85F0-5B13117EBEFE}\n",
       "1       {5EAD3364-2CA7-4A39-9A53-7F9DCF5D2041}\n",
       "3       {124B9BFA-7F7B-4B8E-8A56-42E067F0F72E}\n",
       "824     {AD56E8D0-CC43-45B5-B042-94D1712322B9}\n",
       "914     {F1864CC3-508C-4E60-9098-B158AB413B03}\n",
       "946     {1C6D0EAB-F68D-411D-974E-1233618854CC}\n",
       "1001    {FC6E894B-F6DF-4FDC-853A-D7372D253988}\n",
       "1059    {7F3B6DB6-2ED4-4415-8DC2-3F03EC88F353}\n",
       "3266    {A717D86F-23E9-4C8C-9F12-198A71113E93}\n",
       "4114    {2138197A-F5CF-4308-93E2-62EA6F84D098}\n",
       "4193    {0FAC3767-EAC4-477A-B5F0-24AF8A40BD09}\n",
       "4194    {BEAC832C-0783-414A-9354-C297F38570AD}\n",
       "4195    {DEF5D82B-E326-41A5-9B6C-D46DCD86950C}\n",
       "4325    {AA461F47-1B2B-4EA1-8154-ECF70B55A334}\n",
       "Name: GlobalID, dtype: object"
      ]
     },
     "execution_count": 5,
     "metadata": {},
     "output_type": "execute_result"
    }
   ],
   "source": [
    "posID"
   ]
  },
  {
   "cell_type": "code",
   "execution_count": 6,
   "metadata": {},
   "outputs": [
    {
     "data": {
      "text/html": [
       "<div>\n",
       "<style scoped>\n",
       "    .dataframe tbody tr th:only-of-type {\n",
       "        vertical-align: middle;\n",
       "    }\n",
       "\n",
       "    .dataframe tbody tr th {\n",
       "        vertical-align: top;\n",
       "    }\n",
       "\n",
       "    .dataframe thead th {\n",
       "        text-align: right;\n",
       "    }\n",
       "</style>\n",
       "<table border=\"1\" class=\"dataframe\">\n",
       "  <thead>\n",
       "    <tr style=\"text-align: right;\">\n",
       "      <th></th>\n",
       "      <th>FileName</th>\n",
       "      <th>GlobalID</th>\n",
       "      <th>FileType</th>\n",
       "    </tr>\n",
       "  </thead>\n",
       "  <tbody>\n",
       "    <tr>\n",
       "      <th>0</th>\n",
       "      <td>ATT1_DSCN9647.jpg</td>\n",
       "      <td>{5AC8034E-5B46-4294-85F0-5B13117EBEFE}</td>\n",
       "      <td>image/jpg</td>\n",
       "    </tr>\n",
       "    <tr>\n",
       "      <th>1</th>\n",
       "      <td>ATT10_67EAF187-B59C-4F5F-BAAC-9F76E06A96D6.jpg</td>\n",
       "      <td>{C4F44511-EA53-4FCF-9422-E1C57703720D}</td>\n",
       "      <td>image/jpg</td>\n",
       "    </tr>\n",
       "    <tr>\n",
       "      <th>2</th>\n",
       "      <td>ATT100_inbound241937372812029587.jpg</td>\n",
       "      <td>{43506835-18B8-46B2-A2CB-586AF9C8ECE6}</td>\n",
       "      <td>image/jpg</td>\n",
       "    </tr>\n",
       "    <tr>\n",
       "      <th>3</th>\n",
       "      <td>ATT1000_A5A50BAB-A6EF-4576-A1F8-A07862AADE3A.jpg</td>\n",
       "      <td>{E0AE2F2A-38A5-463C-97B5-9F84A477F9AE}</td>\n",
       "      <td>image/jpg</td>\n",
       "    </tr>\n",
       "    <tr>\n",
       "      <th>4</th>\n",
       "      <td>ATT1001_8B9F8599-61EF-4690-B195-888BCD319F32.png</td>\n",
       "      <td>{1CD14B56-4046-44C4-B1B8-8FB07A9071E9}</td>\n",
       "      <td>image/png</td>\n",
       "    </tr>\n",
       "  </tbody>\n",
       "</table>\n",
       "</div>"
      ],
      "text/plain": [
       "                                           FileName  \\\n",
       "0                                 ATT1_DSCN9647.jpg   \n",
       "1    ATT10_67EAF187-B59C-4F5F-BAAC-9F76E06A96D6.jpg   \n",
       "2              ATT100_inbound241937372812029587.jpg   \n",
       "3  ATT1000_A5A50BAB-A6EF-4576-A1F8-A07862AADE3A.jpg   \n",
       "4  ATT1001_8B9F8599-61EF-4690-B195-888BCD319F32.png   \n",
       "\n",
       "                                 GlobalID   FileType  \n",
       "0  {5AC8034E-5B46-4294-85F0-5B13117EBEFE}  image/jpg  \n",
       "1  {C4F44511-EA53-4FCF-9422-E1C57703720D}  image/jpg  \n",
       "2  {43506835-18B8-46B2-A2CB-586AF9C8ECE6}  image/jpg  \n",
       "3  {E0AE2F2A-38A5-463C-97B5-9F84A477F9AE}  image/jpg  \n",
       "4  {1CD14B56-4046-44C4-B1B8-8FB07A9071E9}  image/png  "
      ]
     },
     "execution_count": 6,
     "metadata": {},
     "output_type": "execute_result"
    }
   ],
   "source": [
    "image.head()"
   ]
  },
  {
   "cell_type": "code",
   "execution_count": 7,
   "metadata": {},
   "outputs": [],
   "source": [
    "# give the pictures tags based on GlobalID\n",
    "pID = posID.values.tolist()\n",
    "nID = negaID.values.tolist()\n",
    "uvID = unverID.values.tolist()\n",
    "upID = unpID.values.tolist()\n",
    "\n",
    "kind_id = 0\n",
    "def find_kind(i):\n",
    "    kind = []\n",
    "#     for i in x:\n",
    "    \n",
    "    if i in pID:\n",
    "        kind_id = 'positive'\n",
    "        kind.append(kind_id)\n",
    "    elif i in nID:\n",
    "        kind_id = 'negative'\n",
    "        kind.append(kind_id)\n",
    "    elif i in uvID:\n",
    "        kind_id = 'unverified'\n",
    "        kind.append(kind_id)\n",
    "    elif i in upID:\n",
    "        kind_id = 'unprocessed'\n",
    "        kind.append(kind_id)\n",
    "    else:\n",
    "        kind_id = 'NA'\n",
    "        kind.append(kind_id)\n",
    "        \n",
    "    return kind_id"
   ]
  },
  {
   "cell_type": "code",
   "execution_count": 8,
   "metadata": {},
   "outputs": [
    {
     "data": {
      "text/html": [
       "<div>\n",
       "<style scoped>\n",
       "    .dataframe tbody tr th:only-of-type {\n",
       "        vertical-align: middle;\n",
       "    }\n",
       "\n",
       "    .dataframe tbody tr th {\n",
       "        vertical-align: top;\n",
       "    }\n",
       "\n",
       "    .dataframe thead th {\n",
       "        text-align: right;\n",
       "    }\n",
       "</style>\n",
       "<table border=\"1\" class=\"dataframe\">\n",
       "  <thead>\n",
       "    <tr style=\"text-align: right;\">\n",
       "      <th></th>\n",
       "      <th>FileName</th>\n",
       "      <th>GlobalID</th>\n",
       "      <th>FileType</th>\n",
       "      <th>kind</th>\n",
       "    </tr>\n",
       "  </thead>\n",
       "  <tbody>\n",
       "    <tr>\n",
       "      <th>0</th>\n",
       "      <td>ATT1_DSCN9647.jpg</td>\n",
       "      <td>{5AC8034E-5B46-4294-85F0-5B13117EBEFE}</td>\n",
       "      <td>image/jpg</td>\n",
       "      <td>positive</td>\n",
       "    </tr>\n",
       "    <tr>\n",
       "      <th>1</th>\n",
       "      <td>ATT10_67EAF187-B59C-4F5F-BAAC-9F76E06A96D6.jpg</td>\n",
       "      <td>{C4F44511-EA53-4FCF-9422-E1C57703720D}</td>\n",
       "      <td>image/jpg</td>\n",
       "      <td>negative</td>\n",
       "    </tr>\n",
       "    <tr>\n",
       "      <th>2</th>\n",
       "      <td>ATT100_inbound241937372812029587.jpg</td>\n",
       "      <td>{43506835-18B8-46B2-A2CB-586AF9C8ECE6}</td>\n",
       "      <td>image/jpg</td>\n",
       "      <td>negative</td>\n",
       "    </tr>\n",
       "    <tr>\n",
       "      <th>3</th>\n",
       "      <td>ATT1000_A5A50BAB-A6EF-4576-A1F8-A07862AADE3A.jpg</td>\n",
       "      <td>{E0AE2F2A-38A5-463C-97B5-9F84A477F9AE}</td>\n",
       "      <td>image/jpg</td>\n",
       "      <td>negative</td>\n",
       "    </tr>\n",
       "    <tr>\n",
       "      <th>4</th>\n",
       "      <td>ATT1001_8B9F8599-61EF-4690-B195-888BCD319F32.png</td>\n",
       "      <td>{1CD14B56-4046-44C4-B1B8-8FB07A9071E9}</td>\n",
       "      <td>image/png</td>\n",
       "      <td>negative</td>\n",
       "    </tr>\n",
       "  </tbody>\n",
       "</table>\n",
       "</div>"
      ],
      "text/plain": [
       "                                           FileName  \\\n",
       "0                                 ATT1_DSCN9647.jpg   \n",
       "1    ATT10_67EAF187-B59C-4F5F-BAAC-9F76E06A96D6.jpg   \n",
       "2              ATT100_inbound241937372812029587.jpg   \n",
       "3  ATT1000_A5A50BAB-A6EF-4576-A1F8-A07862AADE3A.jpg   \n",
       "4  ATT1001_8B9F8599-61EF-4690-B195-888BCD319F32.png   \n",
       "\n",
       "                                 GlobalID   FileType      kind  \n",
       "0  {5AC8034E-5B46-4294-85F0-5B13117EBEFE}  image/jpg  positive  \n",
       "1  {C4F44511-EA53-4FCF-9422-E1C57703720D}  image/jpg  negative  \n",
       "2  {43506835-18B8-46B2-A2CB-586AF9C8ECE6}  image/jpg  negative  \n",
       "3  {E0AE2F2A-38A5-463C-97B5-9F84A477F9AE}  image/jpg  negative  \n",
       "4  {1CD14B56-4046-44C4-B1B8-8FB07A9071E9}  image/png  negative  "
      ]
     },
     "execution_count": 8,
     "metadata": {},
     "output_type": "execute_result"
    }
   ],
   "source": [
    "image['kind'] = image.GlobalID.apply(find_kind)\n",
    "image.head()"
   ]
  },
  {
   "cell_type": "code",
   "execution_count": 11,
   "metadata": {},
   "outputs": [],
   "source": [
    "pf = image.loc[image['kind'] == 'positive']\n",
    "nf = image.loc[image['kind'] == 'negative']\n",
    "uvf = image.loc[image['kind'] == 'unverified']\n",
    "upf = image.loc[image['kind'] == 'unprocessed']"
   ]
  },
  {
   "cell_type": "code",
   "execution_count": 14,
   "metadata": {},
   "outputs": [],
   "source": [
    "pf['FileName'].to_excel('../c/pf.xlsx')\n",
    "nf['FileName'].to_excel('../c/nf.xlsx')\n",
    "uvf['FileName'].to_excel('../c/uvf.xlsx')\n",
    "upf['FileName'].to_excel('../c/upf.xlsx')"
   ]
  }
 ],
 "metadata": {
  "kernelspec": {
   "display_name": "Python 3",
   "language": "python",
   "name": "python3"
  },
  "language_info": {
   "codemirror_mode": {
    "name": "ipython",
    "version": 3
   },
   "file_extension": ".py",
   "mimetype": "text/x-python",
   "name": "python",
   "nbconvert_exporter": "python",
   "pygments_lexer": "ipython3",
   "version": "3.7.1"
  }
 },
 "nbformat": 4,
 "nbformat_minor": 2
}
